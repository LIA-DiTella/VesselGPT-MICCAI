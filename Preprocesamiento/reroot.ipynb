{
 "cells": [
  {
   "cell_type": "code",
   "execution_count": 2,
   "metadata": {},
   "outputs": [],
   "source": [
    "import matplotlib.pyplot as plt\n",
    "import random\n",
    "from Arbol import deserialize2, read_tree, deserialize, Node\n",
    "from parseObj import calcularMatriz\n",
    "import Arbol as modelo\n",
    "import torch\n",
    "import numpy as np\n",
    "import os\n",
    "import traceback"
   ]
  },
  {
   "cell_type": "code",
   "execution_count": 3,
   "metadata": {},
   "outputs": [],
   "source": [
    "import networkx as nx\n",
    "import matplotlib.pyplot as plt\n",
    "import random\n",
    "'''\n",
    "class Node:\n",
    "    \"\"\"\n",
    "    Class Node\n",
    "    \"\"\"\n",
    "    def __init__(self, value, radius, left=None, right=None):\n",
    "        self.left = left\n",
    "        self.data = value\n",
    "        self.radius = radius  # (x, y) coordinates\n",
    "        self.right = right'''\n",
    "\n",
    "def build_graph_from_tree(root, graph=None, parent=None):\n",
    "    \"\"\"\n",
    "    Convert the binary tree into a NetworkX graph.\n",
    "    \"\"\"\n",
    "    if graph is None:\n",
    "        graph = nx.Graph()  # Undirected graph\n",
    "\n",
    "    if root is not None:\n",
    "        graph.add_node(root.data, radius=root.radius)\n",
    "        if parent:\n",
    "            graph.add_edge(parent.data, root.data)\n",
    "\n",
    "        build_graph_from_tree(root.left, graph, root)\n",
    "        build_graph_from_tree(root.right, graph, root)\n",
    "\n",
    "    return graph\n",
    "'''\n",
    "def rebuild_tree_from_graph(graph, root_value):\n",
    "    \"\"\"\n",
    "    Convert the graph back to a binary tree with the given root value.\n",
    "    \"\"\"\n",
    "    # Use BFS to build the tree\n",
    "    visited = set()\n",
    "    queue = [(root_value, None)]  # (current_node, parent_node)\n",
    "    root = None\n",
    "    node_map = {}\n",
    "\n",
    "    while queue:\n",
    "        current, parent = queue.pop(0)\n",
    "\n",
    "        if current in visited:\n",
    "            continue\n",
    "        visited.add(current)\n",
    "\n",
    "        # Create the Node if it doesn't exist\n",
    "        if current not in node_map:\n",
    "            radius = graph.nodes[current][\"radius\"]\n",
    "            node_map[current] = Node(current, radius)\n",
    "\n",
    "        # Link the current node to its parent\n",
    "        if parent is not None:\n",
    "            if node_map[parent].left is None:\n",
    "                node_map[parent].left = node_map[current]\n",
    "            elif node_map[parent].right is None:\n",
    "                node_map[parent].right = node_map[current]\n",
    "\n",
    "        # Set the root if it's the first node\n",
    "        if root is None:\n",
    "            root = node_map[current]\n",
    "\n",
    "        # Add neighbors to the queue\n",
    "        for neighbor in graph.neighbors(current):\n",
    "            if neighbor not in visited:\n",
    "                queue.append((neighbor, current))\n",
    "\n",
    "    return root'''\n",
    "\n",
    "def visualize_tree(root, ax, title=\"Tree\"):\n",
    "    \"\"\"\n",
    "    Visualize the binary tree using coordinates from the radius attribute.\n",
    "    \"\"\"\n",
    "    graph = build_graph_from_tree(root)\n",
    "\n",
    "    # Extract positions from the radius attribute\n",
    "    try:\n",
    "        pos = {node: data[\"radius\"][:2].cpu().tolist() for node, data in graph.nodes(data=True) if torch.mean(data[\"radius\"]) != 0}  # (x, y) positions\n",
    "    except:\n",
    "        pos = {node: data[\"radius\"][:2] for node, data in graph.nodes(data=True) if np.mean(data[\"radius\"]) != 0}  # (x, y) positions\n",
    "    print(pos)\n",
    "    # Draw the graph\n",
    "     # Filter nodes and edges based on pos\n",
    "    nodes_to_plot = list(pos.keys())\n",
    "    edges_to_plot = [(u, v) for u, v in graph.edges if u in pos and v in pos]\n",
    "\n",
    "    # Create a subgraph containing only the filtered nodes and edges\n",
    "    filtered_graph = graph.edge_subgraph(edges_to_plot).copy()\n",
    "\n",
    "    # Draw the graph\n",
    "\n",
    "    nx.draw(filtered_graph, pos, with_labels=True, ax=ax, node_size=500, node_color=\"lightblue\", font_size=8, font_color=\"black\")\n",
    "    # Annotate nodes with their radius (coordinates)\n",
    "    \n",
    "\n",
    "    ax.set_title(title)\n",
    "\n",
    "def limpiarRadios(root):\n",
    "    if root is not None:\n",
    "        limpiarRadios(root.left)\n",
    "        root.radius = [float(r) for r in root.radius]\n",
    "        limpiarRadios(root.right)\n",
    "\n",
    "def traversefeatures(root, features):\n",
    "       \n",
    "    if root is not None:\n",
    "        traversefeatures(root.left, features)\n",
    "        #features.append(root.radius.tolist())\n",
    "        features.append(root.radius)\n",
    "        traversefeatures(root.right, features)\n",
    "        return features\n",
    "    \n",
    "\n",
    "def traverseInorder(root):\n",
    "    if root is not None:\n",
    "        traverseInorder(root.left)\n",
    "        print (root.data, root.radius)\n",
    "        traverseInorder(root.right)\n",
    "\n",
    "def traversefeaturesSerializado(root, features):\n",
    "    def post_order(root, features):\n",
    "        if root:\n",
    "            post_order(root.left, features)\n",
    "            post_order(root.right, features)\n",
    "            features.append(root.radius.cpu().tolist())\n",
    "                \n",
    "        #else:\n",
    "        #    features.append(torch.tensor([0.,0.,0.,0.]))           \n",
    "\n",
    "    post_order(root, features)\n",
    "    return features[:-1]  # remove last ,\n",
    "\n",
    "def normTodos(root, minx, miny, minz, minr, maxx, maxy, maxz, maxr):\n",
    "    \n",
    "    if root is not None and torch.mean(root.radius)!=0:\n",
    "        mx = minx.clone().detach()\n",
    "        my = miny.clone().detach()\n",
    "        mz = minz.clone().detach()\n",
    "        mr = minr.clone().detach()\n",
    "        Mx = maxx.clone().detach()\n",
    "        My = maxy.clone().detach()\n",
    "        Mz = maxz.clone().detach()\n",
    "        Mr = maxr.clone().detach()\n",
    "       \n",
    "        M = max((maxx - minx), (maxy - miny), (maxz - minz))\n",
    "        root.radius[0] = (root.radius[0] - minx)/M\n",
    "        root.radius[1] = (root.radius[1] - miny)/M\n",
    "        root.radius[2] = (root.radius[2] - minz)/M\n",
    "        root.radius[3] = (root.radius[3])/M\n",
    "        \n",
    "        normTodos(root.left, mx, my, mz, mr, Mx, My, Mz, Mr)\n",
    "        normTodos(root.right, mx, my, mz, mr, Mx, My, Mz, Mr)\n",
    "        return \n",
    "\n",
    "def normalize_features(root):\n",
    "    features = []\n",
    "    features = traversefeatures(root, features)\n",
    "    \n",
    "    x = [tensor[0] for tensor in features if torch.mean(tensor)!=0]\n",
    "    y = [tensor[1] for tensor in features if torch.mean(tensor)!=0]\n",
    "    z = [tensor[2] for tensor in features if torch.mean(tensor)!=0]\n",
    "    r = [tensor[3] for tensor in features if torch.mean(tensor)!=0]\n",
    "    \n",
    "    normTodos(root, min(x), min(y), min(z), min(r), max(x), max(y), max(z), max(r))\n",
    "\n",
    "    return "
   ]
  },
  {
   "cell_type": "code",
   "execution_count": 37,
   "metadata": {},
   "outputs": [
    {
     "name": "stdout",
     "output_type": "stream",
     "text": [
      "failed with tree 0015_tree.dat\n",
      "failed with tree 0017_tree.dat\n",
      "failed with tree 0020_tree.dat\n",
      "failed with tree 0028a_tree.dat\n",
      "failed with tree 0028b_tree.dat\n",
      "failed with tree 0029_tree.dat\n",
      "failed with tree 0032_tree.dat\n",
      "failed with tree 0033_tree.dat\n",
      "failed with tree 0037_tree.dat\n",
      "failed with tree 0039_tree.dat\n",
      "failed with tree 0047_tree.dat\n",
      "failed with tree 0049_tree.dat\n",
      "failed with tree 0051_tree.dat\n",
      "failed with tree 0054_tree.dat\n",
      "failed with tree 0061_tree.dat\n",
      "failed with tree 0065_tree.dat\n",
      "failed with tree 0066_tree.dat\n",
      "failed with tree 0068_tree.dat\n",
      "failed with tree 0076_tree.dat\n",
      "failed with tree 0078_tree.dat\n",
      "failed with tree 0087_tree.dat\n",
      "failed with tree 0094_tree.dat\n",
      "failed with tree 0096_tree.dat\n",
      "failed with tree 099_tree.dat\n"
     ]
    }
   ],
   "source": [
    "#dir = \"resample_Eps01/centerlinesOBJ/\" \n",
    "#dir = \"centerlines\" \n",
    "dir = \"DatosGPT/aneurisk/arboles/p15Eps01/\"\n",
    "trees = os.listdir(dir)\n",
    "for file in trees:\n",
    "    try:\n",
    "        #file = file.split(\"-\")[0]+\"-\"+file.split(\"-\")[1]#intra\n",
    "        #file = file.split(\"_\")[0]#aneurisk\n",
    "        '''\n",
    "        \n",
    "        #fileObj = open(\"resample_Eps01/centerlinesOBJ/\" +file.split(\".\")[0] +\"-network.obj\")\n",
    "        fileObj = open(\"centerlines/\" +file.split(\".\")[0] +\"-network.obj\")\n",
    "        #grafo = calcularMatriz(fileObj, \"resample_Eps01/radius/\" + file.split(\".\")[0] + \"-radius.npy\")\n",
    "        grafo = calcularMatriz(fileObj, \"radius/\" + file.split(\".\")[0] + \"-radius.npy\")'''\n",
    "\n",
    "        grafo = nx.Graph()\n",
    "        #serial  = read_tree(\"DatosGPT/aneurisk/arboles/p15Eps02/\"+file.split(\".\")[0]+\".dat\") ##INTRA\n",
    "        serial  = read_tree(\"DatosGPT/aneurisk/arboles/p15Eps01/\"+file) ##ANEURISK\n",
    "        \n",
    "        \n",
    "        root = deserialize(serial)\n",
    "        root.toGraph( grafo, 0, False, 0)\n",
    "        \n",
    "\n",
    "        grafo = grafo.to_undirected()\n",
    "\n",
    "        nc = 0\n",
    "        #controlo si tiene ciclos\n",
    "        if len(nx.cycle_basis(grafo))>0:\n",
    "            nc = 1\n",
    "                \n",
    "        nb = 0\n",
    "        #controlo si es binario (no hay nodos con mas de 3 edges)\n",
    "        for nodo in grafo.nodes:\n",
    "            if len(grafo.edges(nodo))>3:\n",
    "                nb = 1\n",
    "                break\n",
    "    \n",
    "        \n",
    "        if nb ==0 and nc == 0: \n",
    "            aRecorrer = []\n",
    "            nodes = list(grafo.nodes)\n",
    "\n",
    "            numeroNodoInicial = random.choice(nodes)\n",
    "            \n",
    "        \n",
    "            rad = list(grafo.nodes[numeroNodoInicial]['radio'])\n",
    "            nodoRaiz = modelo.Node( numeroNodoInicial, radius =  rad )\n",
    "\n",
    "            for vecino in grafo.neighbors( numeroNodoInicial ):\n",
    "                if vecino != numeroNodoInicial:\n",
    "                    aRecorrer.append( (vecino, numeroNodoInicial,nodoRaiz ) )\n",
    "            \n",
    "            while len(aRecorrer) != 0:\n",
    "                nodoAAgregar, numeroNodoPadre,nodoPadre = aRecorrer.pop(0)\n",
    "                radius = list(grafo.nodes[nodoAAgregar]['radio'])\n",
    "            \n",
    "                nodoActual = modelo.Node( nodoAAgregar, radius =  radius)\n",
    "                nodoPadre.agregarHijo( nodoActual )\n",
    "                for vecino in grafo.neighbors( nodoAAgregar ):\n",
    "                    if vecino != numeroNodoPadre:\n",
    "                        aRecorrer.append( (vecino, nodoAAgregar,nodoActual) )\n",
    "\n",
    "            limpiarRadios(nodoRaiz)\n",
    "            serial = nodoRaiz.serialize(nodoRaiz)\n",
    "            #write serialized string to file\n",
    "            filew = open(\"DatosGPT/aneurisk/arboles/p15Eps01reroot1/\" + file, \"w\")\n",
    "            filew.write(serial)\n",
    "            filew.close() \n",
    "\n",
    "            tree = deserialize2(serial)\n",
    "            normalize_features(tree)\n",
    "            vector = []\n",
    "            traversefeaturesSerializado(tree, vector)\n",
    "            data_np = np.array(vector)\n",
    "            file_path = 'DatosGPT/aneurisk/numpy/p15Eps01reroot1/' + file.split(\".\")[0]\n",
    "            np.save(file_path, data_np)\n",
    "\n",
    "            \n",
    "\n",
    "    except:\n",
    "        print(f\"failed with tree {file}\")\n",
    "        #traceback.print_exc()\n",
    "    "
   ]
  },
  {
   "cell_type": "code",
   "execution_count": null,
   "metadata": {},
   "outputs": [
    {
     "data": {
      "text/plain": [
       "tensor([0.5033, 0.2567, 0.6981, 0.0300], device='cuda:0')"
      ]
     },
     "execution_count": 26,
     "metadata": {},
     "output_type": "execute_result"
    }
   ],
   "source": [
    "root.radius"
   ]
  },
  {
   "cell_type": "code",
   "execution_count": null,
   "metadata": {},
   "outputs": [
    {
     "data": {
      "text/plain": [
       "[0.02082088030874729,\n",
       " 0.09907933324575424,\n",
       " 0.057374417781829834,\n",
       " 0.037670865654945374]"
      ]
     },
     "execution_count": 27,
     "metadata": {},
     "output_type": "execute_result"
    }
   ],
   "source": [
    "nodoRaiz.radius"
   ]
  },
  {
   "cell_type": "code",
   "execution_count": null,
   "metadata": {},
   "outputs": [
    {
     "data": {
      "text/plain": [
       "[0.02082088030874729,\n",
       " 0.09907933324575424,\n",
       " 0.057374417781829834,\n",
       " 0.037670865654945374]"
      ]
     },
     "execution_count": 28,
     "metadata": {},
     "output_type": "execute_result"
    }
   ],
   "source": [
    "nodoRaiz.radius = [float(r) for r in nodoRaiz.radius]\n",
    "nodoRaiz.radius"
   ]
  },
  {
   "cell_type": "code",
   "execution_count": null,
   "metadata": {},
   "outputs": [
    {
     "data": {
      "text/plain": [
       "'ArteryObjAN9-7_tree.dat'"
      ]
     },
     "execution_count": 29,
     "metadata": {},
     "output_type": "execute_result"
    }
   ],
   "source": [
    "file"
   ]
  },
  {
   "cell_type": "code",
   "execution_count": null,
   "metadata": {},
   "outputs": [
    {
     "ename": "FileNotFoundError",
     "evalue": "[Errno 2] No such file or directory: 'resample_Eps01/Trees/ArteryObjAN9-7_tree_tree.dat'",
     "output_type": "error",
     "traceback": [
      "\u001b[1;31m---------------------------------------------------------------------------\u001b[0m",
      "\u001b[1;31mFileNotFoundError\u001b[0m                         Traceback (most recent call last)",
      "Cell \u001b[1;32mIn[30], line 4\u001b[0m\n\u001b[0;32m      1\u001b[0m num_trees \u001b[38;5;241m=\u001b[39m \u001b[38;5;241m2\u001b[39m\n\u001b[0;32m      2\u001b[0m fig, axes \u001b[38;5;241m=\u001b[39m plt\u001b[38;5;241m.\u001b[39msubplots(\u001b[38;5;241m1\u001b[39m, num_trees, figsize\u001b[38;5;241m=\u001b[39m(\u001b[38;5;241m5\u001b[39m \u001b[38;5;241m*\u001b[39m num_trees, \u001b[38;5;241m5\u001b[39m))\n\u001b[1;32m----> 4\u001b[0m root \u001b[38;5;241m=\u001b[39m \u001b[43mread_tree\u001b[49m\u001b[43m(\u001b[49m\u001b[38;5;124;43m\"\u001b[39;49m\u001b[38;5;124;43mresample_Eps01/Trees/\u001b[39;49m\u001b[38;5;124;43m\"\u001b[39;49m\u001b[43m \u001b[49m\u001b[38;5;241;43m+\u001b[39;49m\u001b[43mfile\u001b[49m\u001b[38;5;241;43m.\u001b[39;49m\u001b[43msplit\u001b[49m\u001b[43m(\u001b[49m\u001b[38;5;124;43m\"\u001b[39;49m\u001b[38;5;124;43m.\u001b[39;49m\u001b[38;5;124;43m\"\u001b[39;49m\u001b[43m)\u001b[49m\u001b[43m[\u001b[49m\u001b[38;5;241;43m0\u001b[39;49m\u001b[43m]\u001b[49m\u001b[43m \u001b[49m\u001b[38;5;241;43m+\u001b[39;49m\u001b[38;5;124;43m\"\u001b[39;49m\u001b[38;5;124;43m_tree.dat\u001b[39;49m\u001b[38;5;124;43m\"\u001b[39;49m\u001b[43m)\u001b[49m\n\u001b[0;32m      5\u001b[0m \u001b[38;5;28mprint\u001b[39m(deserialize2(root))\n\u001b[0;32m      6\u001b[0m visualize_tree(deserialize2(root), axes[\u001b[38;5;241m0\u001b[39m], title\u001b[38;5;241m=\u001b[39m\u001b[38;5;124m\"\u001b[39m\u001b[38;5;124mOriginal Tree\u001b[39m\u001b[38;5;124m\"\u001b[39m)\n",
      "File \u001b[1;32mc:\\Users\\User\\Documents\\MICCAI\\procesamientoIntra\\Arbol.py:198\u001b[0m, in \u001b[0;36mread_tree\u001b[1;34m(filename)\u001b[0m\n\u001b[0;32m    197\u001b[0m \u001b[38;5;28;01mdef\u001b[39;00m \u001b[38;5;21mread_tree\u001b[39m(filename):\n\u001b[1;32m--> 198\u001b[0m     \u001b[38;5;28;01mwith\u001b[39;00m \u001b[38;5;28;43mopen\u001b[39;49m\u001b[43m(\u001b[49m\u001b[43mfilename\u001b[49m\u001b[43m,\u001b[49m\u001b[43m \u001b[49m\u001b[38;5;124;43m\"\u001b[39;49m\u001b[38;5;124;43mr\u001b[39;49m\u001b[38;5;124;43m\"\u001b[39;49m\u001b[43m)\u001b[49m \u001b[38;5;28;01mas\u001b[39;00m f:\n\u001b[0;32m    199\u001b[0m         byte \u001b[38;5;241m=\u001b[39m f\u001b[38;5;241m.\u001b[39mread() \n\u001b[0;32m    200\u001b[0m         \u001b[38;5;28;01mreturn\u001b[39;00m byte\n",
      "\u001b[1;31mFileNotFoundError\u001b[0m: [Errno 2] No such file or directory: 'resample_Eps01/Trees/ArteryObjAN9-7_tree_tree.dat'"
     ]
    },
    {
     "data": {
      "image/png": "[encoded data removed]",
      "text/plain": [
       "<Figure size 1000x500 with 2 Axes>"
      ]
     },
     "metadata": {},
     "output_type": "display_data"
    }
   ],
   "source": [
    "num_trees = 2\n",
    "fig, axes = plt.subplots(1, num_trees, figsize=(5 * num_trees, 5))\n",
    "\n",
    "root = read_tree(\"resample_Eps01/Trees/\" +file.split(\".\")[0] +\"_tree.dat\")\n",
    "print(deserialize2(root))\n",
    "visualize_tree(deserialize2(root), axes[0], title=\"Original Tree\")\n",
    "\n",
    "# Plot augmented trees\n",
    "\n",
    "visualize_tree(nodoRaiz, axes[0 + 1], title=f\"Augmented Tree (Root: {numeroNodoInicial})\")\n",
    "\n",
    "plt.tight_layout()\n",
    "plt.show()"
   ]
  },
  {
   "cell_type": "code",
   "execution_count": null,
   "metadata": {},
   "outputs": [
    {
     "data": {
      "text/plain": [
       "'#;#;#;#;#;#;#;#;#;#;#;#;#;24_[58.6156, -49.6066, -20.4789, 0.35260084227940075];23_[58.8078, -50.4707, -18.0511, 0.3200370311022908];22_[58.6558, -50.7256, -16.9663, 0.373208281411022];21_[58.5553, -50.7261, -16.0293, 0.33486368325433785];20_[58.414, -50.651, -15.2832, 0.38570859494402865];19_[58.0948, -50.4879, -14.5824, 0.41230964110798385];18_[57.44, -50.1267, -13.7757, 0.4276992391242227];17_[56.9894, -49.8801, -13.4584, 0.4284883402108364];16_[55.9543, -49.4213, -13.2184, 0.43582540041758716];15_[55.3857, -49.3188, -13.2185, 0.42360846675038205];14_[54.1007, -49.227, -13.3466, 0.3865573305902247];13_[53.1153, -49.4649, -13.566, 0.44533892284929066];#;#;#;#;#;#;#;#;#;#;#;#;#;0_[44.4617, -50.9078, -23.921, 0.5572607976854856];1_[44.7604, -52.528, -23.0979, 0.5404299835392553];2_[44.8436, -53.0384, -22.6594, 0.5110659380925711];3_[45.1376, -53.4722, -22.0757, 0.4226138885411993];4_[45.3235, -53.9494, -20.9988, 0.513435955192128];5_[45.5517, -53.9353, -19.2721, 0.46114255112851005];6_[45.7812, -53.7668, -18.0257, 0.4070469186716218];7_[46.2033, -53.64, -16.822, 0.4234282156380164];8_[47.1005, -53.2436, -15.489, 0.4314084050811709];9_[47.8858, -52.8911, -14.8021, 0.4764716270388366];10_[48.4049, -52.6175, -14.5353, 0.4409758760728699];11_[49.3536, -51.972, -14.2305, 0.41447046672978544];12_[51.6826, -50.2662, -13.9061, 0.43012189930094813]'"
      ]
     },
     "execution_count": 29,
     "metadata": {},
     "output_type": "execute_result"
    }
   ],
   "source": [
    "root"
   ]
  },
  {
   "cell_type": "code",
   "execution_count": null,
   "metadata": {},
   "outputs": [
    {
     "data": {
      "text/plain": [
       "tensor([ 49.3536, -51.9720, -14.2305,   0.4145], device='cuda:0')"
      ]
     },
     "execution_count": 30,
     "metadata": {},
     "output_type": "execute_result"
    }
   ],
   "source": [
    "deserialize2(root).right.radius"
   ]
  }
 ],
 "metadata": {
  "kernelspec": {
   "display_name": "pytorchpau",
   "language": "python",
   "name": "python3"
  },
  "language_info": {
   "codemirror_mode": {
    "name": "ipython",
    "version": 3
   },
   "file_extension": ".py",
   "mimetype": "text/x-python",
   "name": "python",
   "nbconvert_exporter": "python",
   "pygments_lexer": "ipython3",
   "version": "3.11.11"
  }
 },
 "nbformat": 4,
 "nbformat_minor": 2
}
