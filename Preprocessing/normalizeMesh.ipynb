{
 "cells": [
  {
   "cell_type": "code",
   "execution_count": 1,
   "id": "14fb9418",
   "metadata": {},
   "outputs": [],
   "source": [
    "import vtk\n",
    "import numpy as np\n",
    "import os"
   ]
  },
  {
   "cell_type": "code",
   "execution_count": 2,
   "id": "3fc59914",
   "metadata": {},
   "outputs": [],
   "source": [
    "def normalize_mesh(path):\n",
    "    # Load the VTP file\n",
    "    reader = vtk.vtkXMLPolyDataReader()\n",
    "    reader.SetFileName(path)\n",
    "    reader.Update()\n",
    "    polydata = reader.GetOutput()\n",
    "\n",
    "    # Get original points\n",
    "    points = polydata.GetPoints()\n",
    "    n_points = points.GetNumberOfPoints()\n",
    "\n",
    "    # Convert to numpy array\n",
    "    coords = np.array([points.GetPoint(i) for i in range(n_points)])\n",
    "\n",
    "    # Compute bounds and normalize with uniform scaling\n",
    "    mins = coords.min(axis=0)\n",
    "    maxs = coords.max(axis=0)\n",
    "    center = (maxs + mins) / 2\n",
    "    half_ranges = (maxs - mins) / 2\n",
    "    uniform_scale = np.max(half_ranges)\n",
    "    if uniform_scale == 0:\n",
    "        uniform_scale = 1.0\n",
    "\n",
    "    normalized_coords = (coords - center) / uniform_scale\n",
    "\n",
    "    # Update points in the VTK object\n",
    "    new_points = vtk.vtkPoints()\n",
    "    for p in normalized_coords:\n",
    "        new_points.InsertNextPoint(p.tolist())\n",
    "\n",
    "    polydata.SetPoints(new_points)\n",
    "    polydata.Modified()\n",
    "\n",
    "    return polydata\n",
    "\n"
   ]
  },
  {
   "cell_type": "code",
   "execution_count": 6,
   "id": "5ac66eeb",
   "metadata": {},
   "outputs": [],
   "source": [
    "mesh_dir = os.listdir(\"../models/vessels/remeshed/area-005/\")\n",
    "mesh_dir = os.listdir(\"../Intra/mallas\")\n",
    "for mesh in mesh_dir:\n",
    "    if mesh.endswith(\".vtp\"):\n",
    "        mesh_path = os.path.join(\"../Intra/mallas\", mesh)\n",
    "        polydata = normalize_mesh(mesh_path)\n",
    "        # Optional: save to new file\n",
    "        writer = vtk.vtkXMLPolyDataWriter()\n",
    "        writer.SetFileName(os.path.join(\"../Intra/mallasNormalized/\" + mesh))\n",
    "        writer.SetInputData(polydata)\n",
    "        writer.Write()\n"
   ]
  },
  {
   "cell_type": "code",
   "execution_count": null,
   "id": "6dcb1ebb",
   "metadata": {},
   "outputs": [
    {
     "ename": "NameError",
     "evalue": "name 'mins' is not defined",
     "output_type": "error",
     "traceback": [
      "\u001b[31m---------------------------------------------------------------------------\u001b[39m",
      "\u001b[31mNameError\u001b[39m                                 Traceback (most recent call last)",
      "\u001b[36mCell\u001b[39m\u001b[36m \u001b[39m\u001b[32mIn[4]\u001b[39m\u001b[32m, line 1\u001b[39m\n\u001b[32m----> \u001b[39m\u001b[32m1\u001b[39m \u001b[38;5;28mprint\u001b[39m(\u001b[33m\"\u001b[39m\u001b[33mOriginal bounds:\u001b[39m\u001b[33m\"\u001b[39m, \u001b[43mmins\u001b[49m, maxs)\n\u001b[32m      2\u001b[39m \u001b[38;5;28mprint\u001b[39m(\u001b[33m\"\u001b[39m\u001b[33mNormalized bounds:\u001b[39m\u001b[33m\"\u001b[39m, normalized_coords.min(axis=\u001b[32m0\u001b[39m), normalized_coords.max(axis=\u001b[32m0\u001b[39m))\n",
      "\u001b[31mNameError\u001b[39m: name 'mins' is not defined"
     ]
    }
   ],
   "source": [
    "print(\"Original bounds:\", mins, maxs)\n",
    "print(\"Normalized bounds:\", normalized_coords.min(axis=0), normalized_coords.max(axis=0))"
   ]
  },
  {
   "cell_type": "code",
   "execution_count": null,
   "id": "5dda20c3",
   "metadata": {},
   "outputs": [],
   "source": []
  }
 ],
 "metadata": {
  "kernelspec": {
   "display_name": "vm",
   "language": "python",
   "name": "python3"
  },
  "language_info": {
   "codemirror_mode": {
    "name": "ipython",
    "version": 3
   },
   "file_extension": ".py",
   "mimetype": "text/x-python",
   "name": "python",
   "nbconvert_exporter": "python",
   "pygments_lexer": "ipython3",
   "version": "3.11.8"
  }
 },
 "nbformat": 4,
 "nbformat_minor": 5
}
