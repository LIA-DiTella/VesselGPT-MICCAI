{
 "cells": [
  {
   "cell_type": "code",
   "execution_count": 50,
   "metadata": {},
   "outputs": [
    {
     "name": "stdout",
     "output_type": "stream",
     "text": [
      "cuda\n"
     ]
    }
   ],
   "source": [
    "import torch\n",
    "import torch.optim as optim\n",
    "from torch.utils.data import Dataset, DataLoader\n",
    "from torch.optim.lr_scheduler import StepLR\n",
    "\n",
    "\n",
    "import os\n",
    "import numpy as np\n",
    "\n",
    "from models.stage1_vocaset import VQAutoEncoder\n",
    "from metrics.loss import calc_vq_loss\n",
    "from base.utilities import AverageMeter\n",
    "import wandb\n",
    "from funciones import IntraDataset\n",
    "\n",
    "device = torch.device(\"cuda\" if torch.cuda.is_available() else \"cpu\")\n",
    "print(device)\n",
    "torch.manual_seed(12)\n",
    "np.random.seed(12)"
   ]
  },
  {
   "cell_type": "code",
   "execution_count": 51,
   "metadata": {},
   "outputs": [],
   "source": [
    "class Args:\n",
    "    def __init__(self):\n",
    "        # LOSS settings\n",
    "        self.quant_loss_weight = 1.\n",
    "\n",
    "        # NETWORK settings\n",
    "        #self.arch = 'stage1_vocaset'\n",
    "        self.in_dim = 39\n",
    "        self.hidden_size = 1024\n",
    "        self.num_hidden_layers = 6\n",
    "        self.num_attention_heads = 8\n",
    "        self.intermediate_size = 1536\n",
    "        self.window_size = 1\n",
    "        self.quant_factor = 0\n",
    "        self.face_quan_num = 16\n",
    "        self.neg = 0.2\n",
    "        self.INaffine = False\n",
    "\n",
    "        # VQuantizer settings\n",
    "        self.n_embed = 256\n",
    "        self.zquant_dim = 64#64\n",
    "\n",
    "        # TRAIN settings\n",
    "        self.use_sgd = False\n",
    "        self.sync_bn = False  # adopt sync_bn or not\n",
    "        self.train_gpu = [0]\n",
    "        self.workers = 10  # data loader workers\n",
    "        self.batch_size = 1  # batch size for training\n",
    "        self.batch_size_val = 1  # batch size for validation during training\n",
    "        self.base_lr = 0.0001\n",
    "        self.StepLR = True\n",
    "        self.warmup_steps = 1\n",
    "        self.adaptive_lr = False\n",
    "        self.factor = 0.3\n",
    "        self.patience = 3\n",
    "        self.threshold = 0.0001\n",
    "        self.poly_lr = False\n",
    "        self.epochs = 200\n",
    "        self.step_size = 200\n",
    "        self.gamma = 0.9\n",
    "        self.start_epoch = 0\n",
    "        self.power = 0.9\n",
    "        self.momentum = 0.9\n",
    "        self.weight_decay = 0.002\n",
    "        self.manual_seed = 131\n",
    "\n",
    "        ##stage 2\n",
    "        self.device = 'cuda'  # or 'cpu'\n",
    "        self.dataset = 'BIWI'  # or 'multi' depending on your dataset\n",
    "        self.wav2vec2model_path = 'path/to/wav2vec2model'  # path to pretrained Wav2Vec2 model\n",
    "        self.feature_dim = 1024  # dimension for the feature after audio encoding\n",
    "        self.vertice_dim = 31  # number of vertices * 3 (e.g., V * 3 for 3D coordinates)\n",
    "        self.n_head = 8  # number of attention heads in the transformer decoder\n",
    "        self.num_layers = 6  # number of layers in the transformer decoder\n",
    "        self.period = 2#100  # period for positional encoding\n",
    "        #self.face_quan_num = 16  # quantization levels per face/vertex\n",
    "        #self.zquant_dim = 64  # dimension of the quantized latent space\n",
    "        self.vqvae_pretrained_path = 'modelos-entrenados/fast-bee.pth'  # path to pretrained VQ-VAE\n",
    "        self.train_subjects = 'subject1 subject2 subject3'  # space-separated list of subjects used in training\n",
    "        self.motion_weight = 1.0  # weight for the motion loss\n",
    "        self.reg_weight = 0.1  # weight for the regularization loss\n",
    "        self.batch_size = 1#32  # batch size for training\n",
    "        #self.epochs = 100  # number of training epochs\n",
    "        #self.base_lr = 0.0001  # base learning rate\n",
    "        self.gpu = torch.cuda.current_device()\n",
    "\n",
    "# Instantiate the arguments\n",
    "args = Args()\n"
   ]
  },
  {
   "cell_type": "code",
   "execution_count": 52,
   "metadata": {},
   "outputs": [
    {
     "name": "stdout",
     "output_type": "stream",
     "text": [
      "file list ['0070.npy', '0070_01.npy', '0070_02.npy', '0071.npy', '0071_01.npy', '0071_02.npy', '0073.npy', '0073_01.npy', '0073_02.npy', '0074a.npy', '0074a_01.npy', '0074a_02.npy', '0074b.npy', '0074b_01.npy', '0074b_02.npy', '0076.npy', '0076_01.npy', '0076_02.npy', '0077.npy', '0077_01.npy', '0077_02.npy', '0078.npy', '0078_01.npy', '0078_02.npy', '0079.npy', '0079_01.npy', '0079_02.npy', '0080.npy', '0080_01.npy', '0080_02.npy', '0081.npy', '0081_01.npy', '0081_02.npy', '0082.npy', '0082_01.npy', '0082_02.npy', '0083.npy', '0083_01.npy', '0083_02.npy', '0084.npy', '0084_01.npy', '0084_02.npy', 'rot1-0070.npy', 'rot1-0070_01.npy', 'rot1-0070_02.npy', 'rot1-0071.npy', 'rot1-0071_01.npy', 'rot1-0071_02.npy', 'rot1-0073.npy', 'rot1-0073_01.npy', 'rot1-0073_02.npy', 'rot1-0074a.npy', 'rot1-0074a_01.npy', 'rot1-0074a_02.npy', 'rot1-0074b.npy', 'rot1-0074b_01.npy', 'rot1-0074b_02.npy', 'rot1-0076.npy', 'rot1-0076_01.npy', 'rot1-0076_02.npy', 'rot1-0077.npy', 'rot1-0077_01.npy', 'rot1-0077_02.npy', 'rot1-0078.npy', 'rot1-0078_01.npy', 'rot1-0078_02.npy', 'rot1-0079.npy', 'rot1-0079_01.npy', 'rot1-0079_02.npy', 'rot1-0080.npy', 'rot1-0080_01.npy', 'rot1-0080_02.npy', 'rot1-0081.npy', 'rot1-0081_01.npy', 'rot1-0081_02.npy', 'rot1-0082.npy', 'rot1-0082_01.npy', 'rot1-0082_02.npy', 'rot1-0083.npy', 'rot1-0083_01.npy', 'rot1-0083_02.npy', 'rot1-0084.npy', 'rot1-0084_01.npy', 'rot1-0084_02.npy', 'rot2-0070.npy', 'rot2-0070_01.npy', 'rot2-0070_02.npy', 'rot2-0071.npy', 'rot2-0071_01.npy', 'rot2-0071_02.npy', 'rot2-0073.npy', 'rot2-0073_01.npy', 'rot2-0073_02.npy', 'rot2-0074a.npy', 'rot2-0074a_01.npy', 'rot2-0074a_02.npy', 'rot2-0074b.npy', 'rot2-0074b_01.npy', 'rot2-0074b_02.npy', 'rot2-0076.npy', 'rot2-0076_01.npy', 'rot2-0076_02.npy', 'rot2-0077.npy', 'rot2-0077_01.npy', 'rot2-0077_02.npy', 'rot2-0078.npy', 'rot2-0078_01.npy', 'rot2-0078_02.npy', 'rot2-0079.npy', 'rot2-0079_01.npy', 'rot2-0079_02.npy', 'rot2-0080.npy', 'rot2-0080_01.npy', 'rot2-0080_02.npy', 'rot2-0081.npy', 'rot2-0081_01.npy', 'rot2-0081_02.npy', 'rot2-0082.npy', 'rot2-0082_01.npy', 'rot2-0082_02.npy', 'rot2-0083.npy', 'rot2-0083_01.npy', 'rot2-0083_02.npy', 'rot2-0084.npy', 'rot2-0084_01.npy', 'rot2-0084_02.npy', 'rot3-0070.npy', 'rot3-0070_01.npy', 'rot3-0070_02.npy', 'rot3-0071.npy', 'rot3-0071_01.npy', 'rot3-0071_02.npy', 'rot3-0073.npy', 'rot3-0073_01.npy', 'rot3-0073_02.npy', 'rot3-0074a.npy', 'rot3-0074a_01.npy', 'rot3-0074a_02.npy', 'rot3-0074b.npy', 'rot3-0074b_01.npy', 'rot3-0074b_02.npy', 'rot3-0076.npy', 'rot3-0076_01.npy', 'rot3-0076_02.npy', 'rot3-0077.npy', 'rot3-0077_01.npy', 'rot3-0077_02.npy', 'rot3-0078.npy', 'rot3-0078_01.npy', 'rot3-0078_02.npy', 'rot3-0079.npy', 'rot3-0079_01.npy', 'rot3-0079_02.npy', 'rot3-0080.npy', 'rot3-0080_01.npy', 'rot3-0080_02.npy', 'rot3-0081.npy', 'rot3-0081_01.npy', 'rot3-0081_02.npy', 'rot3-0082.npy', 'rot3-0082_01.npy', 'rot3-0082_02.npy', 'rot3-0083.npy', 'rot3-0083_01.npy', 'rot3-0083_02.npy', 'rot3-0084.npy', 'rot3-0084_01.npy', 'rot3-0084_02.npy', 'rot4-0070.npy', 'rot4-0070_01.npy', 'rot4-0070_02.npy', 'rot4-0071.npy', 'rot4-0071_01.npy', 'rot4-0071_02.npy', 'rot4-0073.npy', 'rot4-0073_01.npy', 'rot4-0073_02.npy', 'rot4-0074a.npy', 'rot4-0074a_01.npy', 'rot4-0074a_02.npy', 'rot4-0074b.npy', 'rot4-0074b_01.npy', 'rot4-0074b_02.npy', 'rot4-0076.npy', 'rot4-0076_01.npy', 'rot4-0076_02.npy', 'rot4-0077.npy', 'rot4-0077_01.npy', 'rot4-0077_02.npy', 'rot4-0078.npy', 'rot4-0078_01.npy', 'rot4-0078_02.npy', 'rot4-0079.npy', 'rot4-0079_01.npy', 'rot4-0079_02.npy', 'rot4-0080.npy', 'rot4-0080_01.npy', 'rot4-0080_02.npy', 'rot4-0081.npy', 'rot4-0081_01.npy', 'rot4-0081_02.npy', 'rot4-0082.npy', 'rot4-0082_01.npy', 'rot4-0082_02.npy', 'rot4-0083.npy', 'rot4-0083_01.npy', 'rot4-0083_02.npy', 'rot4-0084.npy', 'rot4-0084_01.npy', 'rot4-0084_02.npy', 'rot5-0070.npy', 'rot5-0070_01.npy', 'rot5-0070_02.npy', 'rot5-0071.npy', 'rot5-0071_01.npy', 'rot5-0071_02.npy', 'rot5-0073.npy', 'rot5-0073_01.npy', 'rot5-0073_02.npy', 'rot5-0074a.npy', 'rot5-0074a_01.npy', 'rot5-0074a_02.npy', 'rot5-0074b.npy', 'rot5-0074b_01.npy', 'rot5-0074b_02.npy', 'rot5-0076.npy', 'rot5-0076_01.npy', 'rot5-0076_02.npy', 'rot5-0077.npy', 'rot5-0077_01.npy', 'rot5-0077_02.npy', 'rot5-0078.npy', 'rot5-0078_01.npy', 'rot5-0078_02.npy', 'rot5-0079.npy', 'rot5-0079_01.npy', 'rot5-0079_02.npy', 'rot5-0080.npy', 'rot5-0080_01.npy', 'rot5-0080_02.npy', 'rot5-0081.npy', 'rot5-0081_01.npy', 'rot5-0081_02.npy', 'rot5-0082.npy', 'rot5-0082_01.npy', 'rot5-0082_02.npy', 'rot5-0083.npy', 'rot5-0083_01.npy', 'rot5-0083_02.npy', 'rot5-0084.npy', 'rot5-0084_01.npy', 'rot5-0084_02.npy', 'rot6-0070.npy', 'rot6-0070_01.npy', 'rot6-0070_02.npy', 'rot6-0071.npy', 'rot6-0071_01.npy', 'rot6-0071_02.npy', 'rot6-0073.npy', 'rot6-0073_01.npy', 'rot6-0073_02.npy', 'rot6-0074a.npy', 'rot6-0074a_01.npy', 'rot6-0074a_02.npy', 'rot6-0074b.npy', 'rot6-0074b_01.npy', 'rot6-0074b_02.npy', 'rot6-0076.npy', 'rot6-0076_01.npy', 'rot6-0076_02.npy', 'rot6-0077.npy', 'rot6-0077_01.npy', 'rot6-0077_02.npy', 'rot6-0078.npy', 'rot6-0078_01.npy', 'rot6-0078_02.npy', 'rot6-0079.npy', 'rot6-0079_01.npy', 'rot6-0079_02.npy', 'rot6-0080.npy', 'rot6-0080_01.npy', 'rot6-0080_02.npy', 'rot6-0081.npy', 'rot6-0081_01.npy', 'rot6-0081_02.npy', 'rot6-0082.npy', 'rot6-0082_01.npy', 'rot6-0082_02.npy', 'rot6-0083.npy', 'rot6-0083_01.npy', 'rot6-0083_02.npy', 'rot6-0084.npy', 'rot6-0084_01.npy', 'rot6-0084_02.npy', 'rot7-0070.npy', 'rot7-0070_01.npy', 'rot7-0070_02.npy', 'rot7-0071.npy', 'rot7-0071_01.npy', 'rot7-0071_02.npy', 'rot7-0073.npy', 'rot7-0073_01.npy', 'rot7-0073_02.npy', 'rot7-0074a.npy', 'rot7-0074a_01.npy', 'rot7-0074a_02.npy', 'rot7-0074b.npy', 'rot7-0074b_01.npy', 'rot7-0074b_02.npy', 'rot7-0076.npy', 'rot7-0076_01.npy', 'rot7-0076_02.npy', 'rot7-0077.npy', 'rot7-0077_01.npy', 'rot7-0077_02.npy', 'rot7-0078.npy', 'rot7-0078_01.npy', 'rot7-0078_02.npy', 'rot7-0079.npy', 'rot7-0079_01.npy', 'rot7-0079_02.npy', 'rot7-0080.npy', 'rot7-0080_01.npy', 'rot7-0080_02.npy', 'rot7-0081.npy', 'rot7-0081_01.npy', 'rot7-0081_02.npy', 'rot7-0082.npy', 'rot7-0082_01.npy', 'rot7-0082_02.npy', 'rot7-0083.npy', 'rot7-0083_01.npy', 'rot7-0083_02.npy', 'rot7-0084.npy', 'rot7-0084_01.npy', 'rot7-0084_02.npy', 'rot8-0070.npy', 'rot8-0070_01.npy', 'rot8-0070_02.npy', 'rot8-0071.npy', 'rot8-0071_01.npy', 'rot8-0071_02.npy', 'rot8-0073.npy', 'rot8-0073_01.npy', 'rot8-0073_02.npy', 'rot8-0074a.npy', 'rot8-0074a_01.npy', 'rot8-0074a_02.npy', 'rot8-0074b.npy', 'rot8-0074b_01.npy', 'rot8-0074b_02.npy', 'rot8-0076.npy', 'rot8-0076_01.npy', 'rot8-0076_02.npy', 'rot8-0077.npy', 'rot8-0077_01.npy', 'rot8-0077_02.npy', 'rot8-0078.npy', 'rot8-0078_01.npy', 'rot8-0078_02.npy', 'rot8-0079.npy', 'rot8-0079_01.npy', 'rot8-0079_02.npy', 'rot8-0080.npy', 'rot8-0080_01.npy', 'rot8-0080_02.npy', 'rot8-0081.npy', 'rot8-0081_01.npy', 'rot8-0081_02.npy', 'rot8-0082.npy', 'rot8-0082_01.npy', 'rot8-0082_02.npy', 'rot8-0083.npy', 'rot8-0083_01.npy', 'rot8-0083_02.npy', 'rot8-0084.npy', 'rot8-0084_01.npy', 'rot8-0084_02.npy', 'rot9-0070.npy', 'rot9-0070_01.npy', 'rot9-0070_02.npy', 'rot9-0071.npy', 'rot9-0071_01.npy', 'rot9-0071_02.npy', 'rot9-0073.npy', 'rot9-0073_01.npy', 'rot9-0073_02.npy', 'rot9-0074a.npy', 'rot9-0074a_01.npy', 'rot9-0074a_02.npy', 'rot9-0074b.npy', 'rot9-0074b_01.npy', 'rot9-0074b_02.npy', 'rot9-0076.npy', 'rot9-0076_01.npy', 'rot9-0076_02.npy', 'rot9-0077.npy', 'rot9-0077_01.npy', 'rot9-0077_02.npy', 'rot9-0078.npy', 'rot9-0078_01.npy', 'rot9-0078_02.npy', 'rot9-0079.npy', 'rot9-0079_01.npy', 'rot9-0079_02.npy', 'rot9-0080.npy', 'rot9-0080_01.npy', 'rot9-0080_02.npy', 'rot9-0081.npy', 'rot9-0081_01.npy', 'rot9-0081_02.npy', 'rot9-0082.npy', 'rot9-0082_01.npy', 'rot9-0082_02.npy', 'rot9-0083.npy', 'rot9-0083_01.npy', 'rot9-0083_02.npy', 'rot9-0084.npy', 'rot9-0084_01.npy', 'rot9-0084_02.npy']\n",
      "Dataset size: 420\n"
     ]
    }
   ],
   "source": [
    "# Usage\n",
    "#intra_dataset = IntraDataset(INTRA_FOLDER, mode=\"pre_order\")\n",
    "#intra_dataset = IntraDataset(INTRA_FOLDER, mode=\"pre_order\")\n",
    "#data_loader = DataLoader(intra_dataset, batch_size=1, shuffle=True)\n",
    "\n",
    "#dataset de validacion\n",
    "INTRA_FOLDER = \"p15/train/\"\n",
    "\n",
    "val_dataset = IntraDataset(\"p20+originales/val/\", mode = \"post_order\", train = True, fn=True)\n",
    "val_loader = DataLoader(val_dataset, batch_size=1, shuffle=True)"
   ]
  },
  {
   "cell_type": "code",
   "execution_count": 53,
   "metadata": {},
   "outputs": [
    {
     "name": "stderr",
     "output_type": "stream",
     "text": [
      "/tmp/ipykernel_7120/1072978218.py:4: FutureWarning: You are using `torch.load` with `weights_only=False` (the current default value), which uses the default pickle module implicitly. It is possible to construct malicious pickle data which will execute arbitrary code during unpickling (See https://github.com/pytorch/pytorch/blob/main/SECURITY.md#untrusted-models for more details). In a future release, the default value for `weights_only` will be flipped to `True`. This limits the functions that could be executed during unpickling. Arbitrary objects will no longer be allowed to be loaded via this mode unless they are explicitly allowlisted by the user via `torch.serialization.add_safe_globals`. We recommend you start setting `weights_only=True` for any use case where you don't have full control of the loaded file. Please open an issue on GitHub for any issues related to this experimental feature.\n",
      "  checkpoint = torch.load(\"modelos-entrenados/aneurisk-limpio-splines.pth\")\n"
     ]
    },
    {
     "name": "stdout",
     "output_type": "stream",
     "text": [
      "219\n"
     ]
    }
   ],
   "source": [
    "#checkpoint = torch.load(\"modelos-entrenados/grateful-field-preorder.pth\")\n",
    "#checkpoint = torch.load(\"modelos-entrenados/aneurisk-splines-final.pth\")\n",
    "\n",
    "checkpoint = torch.load(\"modelos-entrenados/aneurisk-limpio-splines.pth\")\n",
    "\n",
    "#checkpoint = torch.load(\"modelos-entrenados/elated-surf.pth\", map_location= \"cuda:0\")\n",
    "model = VQAutoEncoder(args).to(device)\n",
    "model.load_state_dict(checkpoint['model_state_dict'])\n",
    "#optimizer.load_state_dict(checkpoint['optimizer_state_dict'])\n",
    "start_epoch = checkpoint['epoch'] + 1\n",
    "best_loss = checkpoint['loss']\n",
    "print(checkpoint['epoch'])\n",
    "# Now you can continue training from this point or use the model for inference"
   ]
  },
  {
   "cell_type": "code",
   "execution_count": 54,
   "metadata": {},
   "outputs": [],
   "source": [
    "arboles_generados = {}\n",
    "for input, file_name in val_loader:\n",
    "    with torch.no_grad():  # No need to compute gradients during sampling\n",
    "        #input = input.reshape(-1,39)\n",
    "        generated_tree, quantized_tree = model.sample_step(input.to(device))\n",
    "        arboles_generados[file_name] = generated_tree\n"
   ]
  },
  {
   "cell_type": "code",
   "execution_count": 55,
   "metadata": {},
   "outputs": [],
   "source": [
    "from collections import defaultdict\n",
    "from funciones import Tree\n",
    "\n",
    "def deserialize_post_order(serial):\n",
    "\n",
    "    serial = serial.copy()\n",
    "\n",
    "    def post_order(serial):\n",
    "\n",
    "        if serial[-39:] == list([0.0] * 39):\n",
    "            for i in range(39): serial.pop()\n",
    "            return None\n",
    "        \n",
    "        data = defaultdict(list)\n",
    "        for i in range(39):\n",
    "            data[\"r\"].append(serial.pop())\n",
    "       \n",
    "\n",
    "        tree = Tree(data)\n",
    "\n",
    "        tree.right = post_order(serial)\n",
    "        tree.left = post_order(serial)\n",
    "        \n",
    "        return tree    \n",
    "    \n",
    "    return post_order(serial)\n",
    "\n",
    "def deserialize_pre_order(serial):\n",
    "    \n",
    "    #serial = serial.copy()\n",
    "    if  not serial:\n",
    "        return \n",
    "    nodes = serial.split(';') \n",
    "    def post(serial):\n",
    "        if len(serial) > 0:\n",
    "            dat = serial[0].split(\"_\")[1]\n",
    "            if dat != str([0.0] * 39):\n",
    "                data = defaultdict(list)\n",
    "                g = dat.split(\",\")\n",
    "                g [0] = g[0].replace('[','')\n",
    "                g[-1] = g[-1].replace(']','')\n",
    "                for i in range(39):\n",
    "                    data[\"r\"].append(g.pop(0))\n",
    "                \n",
    "                tree = Tree(data)\n",
    "\n",
    "                left, ret = post(serial[1:])\n",
    "                right, ret = post(ret)\n",
    "\n",
    "                tree.left = left\n",
    "                tree.right = right\n",
    "\n",
    "                return tree, ret\n",
    "\n",
    "            else:\n",
    "                return None, serial[1:]\n",
    "            \n",
    "        #else:\n",
    "        #    return None, []\n",
    "    return post(nodes)\n",
    "\n",
    "def serialize_post_order(tree):\n",
    "\n",
    "    def post_order(tree):\n",
    "\n",
    "        if tree:\n",
    "\n",
    "            post_order(tree.left)\n",
    "            post_order(tree.right)\n",
    "\n",
    "            #ret[0] += '1_'+ str([np.round(float(v), 39) for v in list(tree.data.values())]) +';'\n",
    "            ret[0] += '1_'+ str(list(map(float, list(tree.data.values())[0]))) +';'\n",
    "\n",
    "        else:\n",
    "            ret[0] += '#;'\n",
    "\n",
    "    ret = ['']\n",
    "    post_order(tree)\n",
    "    return ret[0][:-1]\n",
    "\n",
    "def serialize_post_order_numpy_vector(tree):\n",
    "    features = []\n",
    "\n",
    "    def post_order(node):\n",
    "        if node:\n",
    "            post_order(node.left)\n",
    "            post_order(node.right)\n",
    "            features.append(list(map(float, list(node.data.values())[0])))  # Convert to float list and append\n",
    "        else:\n",
    "            features.append([0.0] * 39)\n",
    "\n",
    "    post_order(tree)\n",
    "    \n",
    "    return np.array(features, dtype=np.float32)  # Convert to NumPy array\n",
    "\n",
    "def serialize_pre_order(tree):\n",
    "\n",
    "    if tree == None: return [[0.0] * 39]\n",
    "    return list(tree.data.values())[::-1] + serialize_pre_order(tree.left) + serialize_pre_order(tree.right)"
   ]
  },
  {
   "cell_type": "code",
   "execution_count": 56,
   "metadata": {},
   "outputs": [],
   "source": [
    "for file_name, generated_tree in arboles_generados.items():\n",
    "    generado = generated_tree.cpu().detach().numpy()[0]\n",
    "    #generado[generado<1e-2] = 0\n",
    "    #for i, row in enumerate(generado):\n",
    "    #    if np.mean(row)<0.1:\n",
    "    #        generado[i] = [0.]*39\n",
    "    generado [abs(generado)<1e-2] = 0\n",
    "    #np.save(\"reconstruidos-val-augmented/\"+file_name[0], np.array(generado))\n",
    "    np.save(\"generadas-p20-orig/\"+file_name[0], np.array(generado))\n",
    "    serializado = ''\n",
    "    j = 0\n",
    "    try:\n",
    "        for array in generado :\n",
    "            #print(np.mean(array))\n",
    "            if (np.mean(array)<0.1):\n",
    "                #string = \"#;\"\n",
    "                string = str(00)+\"_\"+str([0.]*39)+\";\"\n",
    "            else:\n",
    "                string = str(j)+\"_\"+str([float(val) for val in array])+\";\"\n",
    "            serializado += string\n",
    "            j+=1\n",
    "        serializado = serializado[:-1]\n",
    "        tree, ret = deserialize_pre_order(serializado)\n",
    "        vec = serialize_post_order_numpy_vector(tree)\n",
    "        #vec = vec[:, ::-1]\n",
    "        #np.save(\"reconstruidos-train-augmented/\"+file_name[0], np.array(vec))\n",
    "    except:\n",
    "        print(f\"no compila {file_name[0]}\")"
   ]
  },
  {
   "cell_type": "code",
   "execution_count": 57,
   "metadata": {},
   "outputs": [
    {
     "data": {
      "text/plain": [
       "array([ 0.        ,  0.        ,  0.        ,  0.        ,  0.03501718,\n",
       "        0.02326792, -0.04787245, -0.02545769,  0.        ,  0.03584064,\n",
       "        0.02387888, -0.04453178, -0.03089869,  0.0415077 ,  0.04186204,\n",
       "       -0.03128185, -0.04430676, -0.03220083,  0.04082472,  0.02263321,\n",
       "       -0.03056351, -0.07306974,  0.02289887,  0.06465793,  0.02529987,\n",
       "       -0.03085655, -0.07187156, -0.51451916, -0.25630578, -0.12992808,\n",
       "        0.        ,  0.24001126,  0.48638365,  0.747919  ,  0.8720092 ,\n",
       "        1.0014046 ,  1.2418499 ,  1.4893733 ,  1.7478702 ], dtype=float32)"
      ]
     },
     "execution_count": 57,
     "metadata": {},
     "output_type": "execute_result"
    }
   ],
   "source": [
    "generado[0]"
   ]
  },
  {
   "cell_type": "code",
   "execution_count": 58,
   "metadata": {},
   "outputs": [
    {
     "data": {
      "text/plain": [
       "array([32.62120056, 20.02560043, 25.07920074, ...,  0.        ,\n",
       "        0.        ,  0.        ])"
      ]
     },
     "execution_count": 58,
     "metadata": {},
     "output_type": "execute_result"
    }
   ],
   "source": [
    "p"
   ]
  },
  {
   "cell_type": "code",
   "execution_count": 59,
   "metadata": {},
   "outputs": [
    {
     "ename": "FileNotFoundError",
     "evalue": "[Errno 2] No such file or directory: 'p20/train/0002-01.npy'",
     "output_type": "error",
     "traceback": [
      "\u001b[0;31m---------------------------------------------------------------------------\u001b[0m",
      "\u001b[0;31mFileNotFoundError\u001b[0m                         Traceback (most recent call last)",
      "Cell \u001b[0;32mIn[59], line 1\u001b[0m\n\u001b[0;32m----> 1\u001b[0m \u001b[43mnp\u001b[49m\u001b[38;5;241;43m.\u001b[39;49m\u001b[43mload\u001b[49m\u001b[43m(\u001b[49m\u001b[38;5;124;43m\"\u001b[39;49m\u001b[38;5;124;43mp20/train/0002-01.npy\u001b[39;49m\u001b[38;5;124;43m\"\u001b[39;49m\u001b[43m)\u001b[49m\n",
      "File \u001b[0;32m~/miniconda3/envs/pytorchpau/lib/python3.11/site-packages/numpy/lib/npyio.py:427\u001b[0m, in \u001b[0;36mload\u001b[0;34m(file, mmap_mode, allow_pickle, fix_imports, encoding, max_header_size)\u001b[0m\n\u001b[1;32m    425\u001b[0m     own_fid \u001b[38;5;241m=\u001b[39m \u001b[38;5;28;01mFalse\u001b[39;00m\n\u001b[1;32m    426\u001b[0m \u001b[38;5;28;01melse\u001b[39;00m:\n\u001b[0;32m--> 427\u001b[0m     fid \u001b[38;5;241m=\u001b[39m stack\u001b[38;5;241m.\u001b[39menter_context(\u001b[38;5;28mopen\u001b[39m(os_fspath(file), \u001b[38;5;124m\"\u001b[39m\u001b[38;5;124mrb\u001b[39m\u001b[38;5;124m\"\u001b[39m))\n\u001b[1;32m    428\u001b[0m     own_fid \u001b[38;5;241m=\u001b[39m \u001b[38;5;28;01mTrue\u001b[39;00m\n\u001b[1;32m    430\u001b[0m \u001b[38;5;66;03m# Code to distinguish from NumPy binary files and pickles.\u001b[39;00m\n",
      "\u001b[0;31mFileNotFoundError\u001b[0m: [Errno 2] No such file or directory: 'p20/train/0002-01.npy'"
     ]
    }
   ],
   "source": [
    "np.load(\"p20/train/0002-01.npy\")"
   ]
  },
  {
   "cell_type": "code",
   "execution_count": null,
   "metadata": {},
   "outputs": [
    {
     "name": "stdout",
     "output_type": "stream",
     "text": [
      "before [[ 0.          0.          0.         ...  1.2460791   1.4588193\n",
      "   1.697244  ]\n",
      " [-0.02087024  0.01213938  0.02659181 ...  1.1950651   1.3638933\n",
      "   1.6515139 ]\n",
      " [ 0.          0.          0.         ...  0.          0.\n",
      "   0.        ]\n",
      " ...\n",
      " [ 0.3874753  -0.34317747 -0.30122477 ...  1.2133101   1.3230604\n",
      "   1.4460949 ]\n",
      " [ 0.          0.          0.         ...  0.          0.\n",
      "   0.        ]\n",
      " [ 0.          0.          0.         ...  0.          0.\n",
      "   0.        ]]\n",
      "all tck []\n",
      "shape (101, 39)\n",
      "knots (101, 12)\n",
      "coefs (101, 24)\n",
      "numeor de nodos no nulos 47\n"
     ]
    },
    {
     "data": {
      "image/png": "[encoded data removed]",
      "text/plain": [
       "<Figure size 800x600 with 1 Axes>"
      ]
     },
     "metadata": {},
     "output_type": "display_data"
    },
    {
     "name": "stdout",
     "output_type": "stream",
     "text": [
      "cantidad de splines 50\n"
     ]
    }
   ],
   "source": [
    "from plotsplines import read_vtp, evaluate_splines, create_vtk_polydata, visualize_vtk_polydata\n"
   ]
  },
  {
   "cell_type": "code",
   "execution_count": null,
   "metadata": {},
   "outputs": [
    {
     "name": "stdout",
     "output_type": "stream",
     "text": [
      "defaultdict(<class 'list'>, {'r': ['-0.01074302475899458', ' 0.00574408657848835', ' 0.00019808753859251738', ' 0.009811926633119583', ' -0.03305951505899429', ' -0.023305721580982208', ' 0.013699141331017017', ' 0.02430642768740654', ' 0.009439384564757347', ' -0.033090606331825256', ' -0.02281133085489273', ' 0.03266060724854469', ' 0.023814279586076736', ' -0.01892140507698059', ' -0.008226865902543068', ' 0.014474482275545597', ' 0.03297243267297745', ' 0.0240224227309227', ' -0.01910041831433773', ' -0.010399946942925453', ' -0.007970974780619144', ' 0.005939126014709473', ' 0.0023800977505743504', ' -0.002726015169173479', ' -0.011536521837115288', ' -0.007668419741094112', ' 0.005535256117582321', ' -0.5419816374778748', ' -0.3963373601436615', ' -0.2598550021648407', ' -0.0006920970045030117', ' 0.2283947914838791', ' 0.4638946056365967', ' 0.6093636155128479', ' 0.7491593360900879', ' 1.0093179941177368', ' 1.2363941669464111', ' 1.4764692783355713', ' 1.619744896888733']})\n"
     ]
    }
   ],
   "source": [
    "generado = generated_tree.cpu().detach().numpy()[0]\n",
    "#generado[generado<1e-2] = 0\n",
    "for i, row in enumerate(generado):\n",
    "    if np.mean(row)<0.1:\n",
    "        generado[i] = [0.]*39\n",
    "\n",
    "serializado = ''\n",
    "j = 0\n",
    "for array in generado :\n",
    "    #print(np.mean(array))\n",
    "    if (np.mean(array)<0.1):\n",
    "        #string = \"#;\"\n",
    "        string = str(00)+\"_\"+str([0.]*39)+\";\"\n",
    "    else:\n",
    "        string = str(j)+\"_\"+str([float(val) for val in array])+\";\"\n",
    "    serializado += string\n",
    "    j+=1\n",
    "serializado = serializado[:-1]\n",
    "\n",
    "tree, ret = deserialize_pre_order(serializado)\n",
    "print(tree.data)\n",
    "#serial_tree = serialize_post_order(tree)\n",
    "#print(\"ser\", serial_tree)\n",
    "#vector = []\n",
    "#traversefeaturesSerializado(tree, vector)\n",
    "#data_np = np.array(vector).reshape((-1,39))\n",
    "vec = serialize_post_order_numpy_vector(tree)\n",
    "vec = vec[:, ::-1]\n",
    "np.save(\"reconstruido.npy\", np.array(vec))\n"
   ]
  },
  {
   "cell_type": "code",
   "execution_count": null,
   "metadata": {},
   "outputs": [
    {
     "data": {
      "text/plain": [
       "(7, 39)"
      ]
     },
     "execution_count": 11,
     "metadata": {},
     "output_type": "execute_result"
    }
   ],
   "source": [
    "vec.shape"
   ]
  },
  {
   "cell_type": "code",
   "execution_count": null,
   "metadata": {},
   "outputs": [
    {
     "data": {
      "text/plain": [
       "tensor([[[ 0.0000,  0.0000,  0.0000,  ...,  1.2334,  1.4942,  1.6136],\n",
       "         [ 0.0000,  0.0000,  0.0000,  ...,  0.0000,  0.0000,  0.0000],\n",
       "         [ 0.0197, -0.0083, -0.1449,  ...,  1.2591,  1.4625,  1.6965],\n",
       "         ...,\n",
       "         [-0.1502,  0.4790, -0.0201,  ...,  1.1196,  1.2601,  1.5242],\n",
       "         [ 0.0000,  0.0000,  0.0000,  ...,  0.0000,  0.0000,  0.0000],\n",
       "         [ 0.0000,  0.0000,  0.0000,  ...,  0.0000,  0.0000,  0.0000]]])"
      ]
     },
     "execution_count": 12,
     "metadata": {},
     "output_type": "execute_result"
    }
   ],
   "source": [
    "input"
   ]
  },
  {
   "cell_type": "code",
   "execution_count": null,
   "metadata": {},
   "outputs": [
    {
     "data": {
      "text/plain": [
       "array([[ 0.0000000e+00,  0.0000000e+00,  0.0000000e+00,  0.0000000e+00,\n",
       "         0.0000000e+00,  0.0000000e+00,  0.0000000e+00,  0.0000000e+00,\n",
       "         0.0000000e+00,  0.0000000e+00,  0.0000000e+00,  0.0000000e+00,\n",
       "         0.0000000e+00,  0.0000000e+00,  0.0000000e+00,  0.0000000e+00,\n",
       "         0.0000000e+00,  0.0000000e+00,  0.0000000e+00,  0.0000000e+00,\n",
       "         0.0000000e+00,  0.0000000e+00,  0.0000000e+00,  0.0000000e+00,\n",
       "         0.0000000e+00,  0.0000000e+00,  0.0000000e+00,  0.0000000e+00,\n",
       "         0.0000000e+00,  0.0000000e+00,  0.0000000e+00,  0.0000000e+00,\n",
       "         0.0000000e+00,  0.0000000e+00,  0.0000000e+00,  0.0000000e+00,\n",
       "         0.0000000e+00,  0.0000000e+00,  0.0000000e+00],\n",
       "       [ 0.0000000e+00,  0.0000000e+00,  0.0000000e+00,  0.0000000e+00,\n",
       "         0.0000000e+00,  0.0000000e+00,  0.0000000e+00,  0.0000000e+00,\n",
       "         0.0000000e+00,  0.0000000e+00,  0.0000000e+00,  0.0000000e+00,\n",
       "         0.0000000e+00,  0.0000000e+00,  0.0000000e+00,  0.0000000e+00,\n",
       "         0.0000000e+00,  0.0000000e+00,  0.0000000e+00,  0.0000000e+00,\n",
       "         0.0000000e+00,  0.0000000e+00,  0.0000000e+00,  0.0000000e+00,\n",
       "         0.0000000e+00,  0.0000000e+00,  0.0000000e+00,  0.0000000e+00,\n",
       "         0.0000000e+00,  0.0000000e+00,  0.0000000e+00,  0.0000000e+00,\n",
       "         0.0000000e+00,  0.0000000e+00,  0.0000000e+00,  0.0000000e+00,\n",
       "         0.0000000e+00,  0.0000000e+00,  0.0000000e+00],\n",
       "       [ 0.0000000e+00,  0.0000000e+00,  0.0000000e+00,  0.0000000e+00,\n",
       "         0.0000000e+00,  0.0000000e+00,  0.0000000e+00,  0.0000000e+00,\n",
       "         0.0000000e+00,  0.0000000e+00,  0.0000000e+00,  0.0000000e+00,\n",
       "         0.0000000e+00,  0.0000000e+00,  0.0000000e+00,  0.0000000e+00,\n",
       "         0.0000000e+00,  0.0000000e+00,  0.0000000e+00,  0.0000000e+00,\n",
       "         0.0000000e+00,  0.0000000e+00,  0.0000000e+00,  0.0000000e+00,\n",
       "         0.0000000e+00,  0.0000000e+00,  0.0000000e+00,  0.0000000e+00,\n",
       "         0.0000000e+00,  0.0000000e+00,  0.0000000e+00,  0.0000000e+00,\n",
       "         0.0000000e+00,  0.0000000e+00,  0.0000000e+00,  0.0000000e+00,\n",
       "         0.0000000e+00,  0.0000000e+00,  0.0000000e+00],\n",
       "       [ 0.0000000e+00,  0.0000000e+00,  0.0000000e+00,  0.0000000e+00,\n",
       "         0.0000000e+00,  0.0000000e+00,  0.0000000e+00,  0.0000000e+00,\n",
       "         0.0000000e+00,  0.0000000e+00,  0.0000000e+00,  0.0000000e+00,\n",
       "         0.0000000e+00,  0.0000000e+00,  0.0000000e+00,  0.0000000e+00,\n",
       "         0.0000000e+00,  0.0000000e+00,  0.0000000e+00,  0.0000000e+00,\n",
       "         0.0000000e+00,  0.0000000e+00,  0.0000000e+00,  0.0000000e+00,\n",
       "         0.0000000e+00,  0.0000000e+00,  0.0000000e+00,  0.0000000e+00,\n",
       "         0.0000000e+00,  0.0000000e+00,  0.0000000e+00,  0.0000000e+00,\n",
       "         0.0000000e+00,  0.0000000e+00,  0.0000000e+00,  0.0000000e+00,\n",
       "         0.0000000e+00,  0.0000000e+00,  0.0000000e+00],\n",
       "       [ 1.6786232e+00,  1.4939451e+00,  1.2043962e+00,  9.9898440e-01,\n",
       "         8.0624831e-01,  6.7980021e-01,  4.9436289e-01,  2.0574865e-01,\n",
       "        -2.4622856e-03, -1.9513191e-01, -3.1803849e-01, -5.0501120e-01,\n",
       "        -2.0126224e-01, -2.3110241e-01, -2.3256201e-01, -2.2109848e-01,\n",
       "        -1.9469491e-01, -2.0187502e-01, -2.3132478e-01, -2.3246166e-01,\n",
       "         1.4104243e-02, -5.9544560e-03,  1.6789963e-03,  1.4126887e-02,\n",
       "         3.3936892e-02,  1.3535308e-02, -5.9249289e-03,  1.4502723e-03,\n",
       "        -9.0876156e-03, -3.7548454e-03,  2.4117479e-02,  4.8534345e-02,\n",
       "         3.7664298e-02, -7.7928314e-03, -4.0625259e-03,  2.3818560e-02,\n",
       "        -2.1593508e-01,  9.1430433e-03,  1.7745323e-02],\n",
       "       [ 1.6930941e+00,  1.4473332e+00,  1.2595236e+00,  9.9984914e-01,\n",
       "         8.3363467e-01,  6.9197965e-01,  4.4741032e-01,  2.5924781e-01,\n",
       "        -1.5475705e-03, -1.6748990e-01, -3.0874243e-01, -5.5116463e-01,\n",
       "        -1.2873867e-01, -1.3719122e-01, -1.4065497e-01, -1.3592649e-01,\n",
       "        -1.2987289e-01, -1.2832002e-01, -1.3730228e-01, -1.4030358e-01,\n",
       "        -5.2245148e-03,  7.2207181e-03, -2.5922099e-02, -4.6171129e-02,\n",
       "        -4.7445651e-02, -5.4662935e-03,  7.3677381e-03, -2.5204822e-02,\n",
       "        -7.0125097e-03,  3.1074446e-02,  3.1807773e-02,  2.0155951e-02,\n",
       "        -1.3649135e-02, -6.6191573e-03,  3.1292442e-02,  3.1635977e-02,\n",
       "        -1.3406642e-01, -2.6022887e-02,  1.1060040e-02],\n",
       "       [ 1.6197449e+00,  1.4764693e+00,  1.2363942e+00,  1.0093180e+00,\n",
       "         7.4915934e-01,  6.0936362e-01,  4.6389461e-01,  2.2839479e-01,\n",
       "        -6.9209700e-04, -2.5985500e-01, -3.9633736e-01, -5.4198164e-01,\n",
       "         5.5352561e-03, -7.6684197e-03, -1.1536522e-02, -2.7260152e-03,\n",
       "         2.3800978e-03,  5.9391260e-03, -7.9709748e-03, -1.0399947e-02,\n",
       "        -1.9100418e-02,  2.4022423e-02,  3.2972433e-02,  1.4474482e-02,\n",
       "        -8.2268659e-03, -1.8921405e-02,  2.3814280e-02,  3.2660607e-02,\n",
       "        -2.2811331e-02, -3.3090606e-02,  9.4393846e-03,  2.4306428e-02,\n",
       "         1.3699141e-02, -2.3305722e-02, -3.3059515e-02,  9.8119266e-03,\n",
       "         1.9808754e-04,  5.7440866e-03, -1.0743025e-02]], dtype=float32)"
      ]
     },
     "execution_count": 13,
     "metadata": {},
     "output_type": "execute_result"
    }
   ],
   "source": [
    "vec"
   ]
  },
  {
   "cell_type": "code",
   "execution_count": null,
   "metadata": {},
   "outputs": [],
   "source": [
    "def traversefeaturesSerializado(root, features):\n",
    "    def post_order(root, features):\n",
    "        if root:\n",
    "            post_order(root.left, features)\n",
    "            post_order(root.right, features)\n",
    "            features.append(root.data['r'])\n",
    "                \n",
    "        #else:\n",
    "        #    features.append(torch.tensor([0.,0.,0.,0.]))           \n",
    "\n",
    "    post_order(root, features)\n",
    "    return features[:-1]  # remove last ,\n"
   ]
  },
  {
   "cell_type": "code",
   "execution_count": null,
   "metadata": {},
   "outputs": [
    {
     "name": "stdout",
     "output_type": "stream",
     "text": [
      "[[ 0.          0.          0.         ...  1.2333623   1.4941806\n",
      "   1.6135805 ]\n",
      " [ 0.          0.          0.         ...  0.          0.\n",
      "   0.        ]\n",
      " [ 0.01973928 -0.00826898 -0.14491902 ...  1.2591218   1.4625444\n",
      "   1.6965077 ]\n",
      " ...\n",
      " [-0.15016943  0.4790075  -0.02012481 ...  1.119628    1.2601421\n",
      "   1.524194  ]\n",
      " [ 0.          0.          0.         ...  0.          0.\n",
      "   0.        ]\n",
      " [ 0.          0.          0.         ...  0.          0.\n",
      "   0.        ]]\n",
      "defaultdict(<class 'list'>, {'r': ['0.0', ' 0.0', ' 0.0', ' 0.005129156168550253', ' -0.024278059601783752', ' -0.030098680406808853', ' 0.0017595381941646338', ' 0.015545717440545559', ' 0.005129156168550253', ' -0.024278059601783752', ' -0.030098680406808853', ' 0.002561163855716586', ' 0.019316069781780243', ' -0.02157910354435444', ' -0.030394749715924263', ' -0.015901507809758186', ' 0.002561163855716586', ' 0.019316069781780243', ' -0.02157910354435444', ' 0.0005554013187065721', ' -0.004405530635267496', ' -0.0028655908536165953', ' 0.001976198283955455', ' 0.0030271641444414854', ' 0.0005554013187065721', ' -0.004405530635267496', ' -0.0028655908536165953', ' -0.5058194994926453', ' -0.38641950488090515', ' -0.2600536644458771', ' 0.0', ' 0.2333623170852661', ' 0.4941805303096771', ' 0.6135805249214172', ' 0.7399463653564453', ' 1.0', ' 1.2333623170852661', ' 1.4941805601119995', ' 1.6135804653167725']})\n"
     ]
    }
   ],
   "source": [
    "original = input.cpu().detach().numpy()[0]\n",
    "print(np.array(original))\n",
    "#np.save(\"original.npy\", np.array(original))\n",
    "serializado = ''\n",
    "j = 0\n",
    "for array in original :\n",
    "    #print(np.mean(array))\n",
    "    if (np.mean(array)== 0):\n",
    "        #string = \"#;\"\n",
    "        string = str(00)+\"_\"+str([0.]*39)+\";\"\n",
    "    else:\n",
    "        string = str(j)+\"_\"+str([float(val) for val in array])+\";\"\n",
    "    serializado += string\n",
    "    j+=1\n",
    "serializado = serializado[:-1]\n",
    "\n",
    "tree, ret = deserialize_pre_order(serializado)\n",
    "print(tree.data)\n",
    "#serial_tree = serialize_post_order(tree)\n",
    "#print(\"ser\", serial_tree)\n",
    "#vector = []\n",
    "#traversefeaturesSerializado(tree, vector)\n",
    "#data_np = np.array(vector).reshape((-1,39))\n",
    "vec = serialize_post_order_numpy_vector(tree)\n",
    "vec = vec[:, ::-1]\n",
    "np.save(\"original.npy\", np.array(vec))\n",
    "\n",
    "#np_tree = np.array(serial_tree)"
   ]
  },
  {
   "cell_type": "code",
   "execution_count": null,
   "metadata": {},
   "outputs": [
    {
     "data": {
      "text/plain": [
       "(59, 39)"
      ]
     },
     "execution_count": 16,
     "metadata": {},
     "output_type": "execute_result"
    }
   ],
   "source": [
    "vec.shape"
   ]
  },
  {
   "cell_type": "code",
   "execution_count": null,
   "metadata": {},
   "outputs": [
    {
     "ename": "NameError",
     "evalue": "name 'd' is not defined",
     "output_type": "error",
     "traceback": [
      "\u001b[0;31m---------------------------------------------------------------------------\u001b[0m",
      "\u001b[0;31mNameError\u001b[0m                                 Traceback (most recent call last)",
      "Cell \u001b[0;32mIn[17], line 1\u001b[0m\n\u001b[0;32m----> 1\u001b[0m \u001b[43md\u001b[49m\n",
      "\u001b[0;31mNameError\u001b[0m: name 'd' is not defined"
     ]
    }
   ],
   "source": [
    "d"
   ]
  },
  {
   "cell_type": "code",
   "execution_count": null,
   "metadata": {},
   "outputs": [],
   "source": [
    "#paso el original de nuevo a post order y recien guardo\n"
   ]
  },
  {
   "cell_type": "code",
   "execution_count": null,
   "metadata": {},
   "outputs": [
    {
     "name": "stdout",
     "output_type": "stream",
     "text": [
      "[0. 0. 0. 0. 0. 0. 0. 0. 0. 0. 0. 0. 0. 0. 0. 0. 0. 0. 0. 0. 0. 0. 0. 0.\n",
      " 0. 0. 0. 0. 0. 0. 0. 0. 0. 0. 0. 0. 0. 0. 0.]\n"
     ]
    }
   ],
   "source": [
    "def serialize_pre_order(tree):\n",
    "\n",
    "    if tree == None: return [[0.0] * 39]\n",
    "    return list(tree.data.values())[::-1] + serialize_pre_order(tree.left) + serialize_pre_order(tree.right)\n",
    "\n",
    "\n",
    "#imito lo que hace el dataloader\n",
    "file_path = os.path.join(\"aneuriskeps02-splines\", \"0023.npy\")\n",
    "\n",
    "# Use memory mapping to avoid loading full file into memory\n",
    "tree_data_np = np.load(file_path, mmap_mode='r')\n",
    "print(tree_data_np[10])\n",
    "# Convert to tensor only when accessed\n",
    "tree_tensor = torch.tensor(tree_data_np, dtype=torch.float32)\n",
    "serial_tree = list(tree_tensor.flatten().numpy())\n",
    "tree = deserialize_post_order(serial_tree)\n",
    "serial_tree = serialize_pre_order(tree)\n",
    "np_tree = np.array(serial_tree).reshape((-1,39))\n",
    "tree_tensor = torch.tensor(np_tree, dtype = torch.float32)"
   ]
  },
  {
   "cell_type": "code",
   "execution_count": null,
   "metadata": {},
   "outputs": [
    {
     "name": "stdout",
     "output_type": "stream",
     "text": [
      "[10.13939953 35.30110168 37.37400055  9.37654833 10.4027289  10.85849191\n",
      " 10.73082116 10.29803428  9.37654833 10.4027289  10.85849191 35.94593477\n",
      " 34.36230673 35.15412011 35.67047434 35.93486407 35.94593477 34.36230673\n",
      " 35.15412011 37.22818418 37.79091401 37.27563419 37.042192   37.01137175\n",
      " 37.22818418 37.79091401 37.27563419 -0.69079989 -0.49687711 -0.27136601\n",
      "  0.          0.14701132  0.30920011  0.50312289  0.72863399  1.\n",
      "  1.14701132  1.30920011  1.50312289]\n"
     ]
    }
   ],
   "source": [
    "print(tree_data_np[28])\n"
   ]
  },
  {
   "cell_type": "code",
   "execution_count": null,
   "metadata": {},
   "outputs": [
    {
     "data": {
      "text/plain": [
       "array([ 1.5031229 ,  1.3092002 ,  1.1470113 ,  1.        ,  0.728634  ,\n",
       "        0.50312287,  0.3092001 ,  0.14701131,  0.        , -0.271366  ,\n",
       "       -0.4968771 , -0.6907999 , 37.275635  , 37.790913  , 37.228184  ,\n",
       "       37.01137   , 37.04219   , 37.275635  , 37.790913  , 37.228184  ,\n",
       "       35.15412   , 34.36231   , 35.945934  , 35.934864  , 35.670475  ,\n",
       "       35.15412   , 34.36231   , 35.945934  , 10.858492  , 10.402729  ,\n",
       "        9.376549  , 10.298035  , 10.730822  , 10.858492  , 10.402729  ,\n",
       "        9.376549  , 37.374     , 35.3011    , 10.1394    ], dtype=float32)"
      ]
     },
     "execution_count": 177,
     "metadata": {},
     "output_type": "execute_result"
    }
   ],
   "source": [
    "vec[28]"
   ]
  },
  {
   "cell_type": "code",
   "execution_count": null,
   "metadata": {},
   "outputs": [
    {
     "data": {
      "text/plain": [
       "(119, 39)"
      ]
     },
     "execution_count": 179,
     "metadata": {},
     "output_type": "execute_result"
    }
   ],
   "source": [
    "vec.shape"
   ]
  },
  {
   "cell_type": "code",
   "execution_count": null,
   "metadata": {},
   "outputs": [
    {
     "data": {
      "text/plain": [
       "array([10.1394    , 35.3011    , 37.374     ,  9.376549  , 10.402729  ,\n",
       "       10.858492  , 10.730822  , 10.298035  ,  9.376549  , 10.402729  ,\n",
       "       10.858492  , 35.945934  , 34.36231   , 35.15412   , 35.670475  ,\n",
       "       35.934864  , 35.945934  , 34.36231   , 35.15412   , 37.228184  ,\n",
       "       37.790913  , 37.275635  , 37.04219   , 37.01137   , 37.228184  ,\n",
       "       37.790913  , 37.275635  , -0.6907999 , -0.4968771 , -0.271366  ,\n",
       "        0.        ,  0.14701131,  0.3092001 ,  0.50312287,  0.728634  ,\n",
       "        1.        ,  1.1470113 ,  1.3092002 ,  1.5031229 ], dtype=float32)"
      ]
     },
     "execution_count": 182,
     "metadata": {},
     "output_type": "execute_result"
    }
   ],
   "source": [
    "inverted_matrix = vec[:, ::-1]\n",
    "inverted_matrix[28]"
   ]
  },
  {
   "cell_type": "code",
   "execution_count": null,
   "metadata": {},
   "outputs": [
    {
     "data": {
      "text/plain": [
       "array([-0.65181637,  0.02259827,  0.26686478,  0.00751444, -0.76691042,\n",
       "       -0.91783524, -0.78332189, -0.30374679,  0.01853987, -0.75374113,\n",
       "       -0.62802506,  0.47813368,  0.62708841,  0.00630699, -0.20869379,\n",
       "       -0.00487521,  0.40888166,  0.58681284, -0.06428017,  0.52448611,\n",
       "        0.31609588,  0.63323269,  0.61726998,  0.61233125,  0.51628832,\n",
       "        0.09720092,  0.6363493 ,  0.03551185,  0.01456709,  0.15820164,\n",
       "       -0.14192291,  0.02141976,  0.03615614,  0.05341003,  0.02659137,\n",
       "       -0.00402635,  0.01159652,  0.06785994,  0.03147797])"
      ]
     },
     "execution_count": 201,
     "metadata": {},
     "output_type": "execute_result"
    }
   ],
   "source": [
    "(vec-tree_data_np)[28]"
   ]
  },
  {
   "cell_type": "code",
   "execution_count": null,
   "metadata": {},
   "outputs": [],
   "source": []
  },
  {
   "cell_type": "code",
   "execution_count": null,
   "metadata": {},
   "outputs": [
    {
     "name": "stdout",
     "output_type": "stream",
     "text": [
      "[0. 0. 0. 0. 0. 0. 0. 0. 0. 0. 0. 0. 0. 0. 0. 0. 0. 0. 0. 0. 0. 0. 0. 0.\n",
      " 0. 0. 0. 0. 0. 0. 0. 0. 0. 0. 0. 0. 0. 0. 0.]\n"
     ]
    }
   ],
   "source": [
    "i=0\n",
    "import traceback\n",
    "for file_name, generated_tree in arboles_generados.items():\n",
    "    i+=1\n",
    "    generado = generated_tree.cpu().detach().numpy()[0]\n",
    "    #generado[generado<1e-2] = 0\n",
    "    for i, row in enumerate(generado):\n",
    "        if np.mean(row)<0.1:\n",
    "            generado[i] = [0.]*39\n",
    "\n",
    "    serializado = ''\n",
    "    j = 0\n",
    "    try:\n",
    "        for array in generado :\n",
    "            #print(np.mean(array))\n",
    "            if (np.mean(array)<0.1):\n",
    "                #string = \"#;\"\n",
    "                string = str(00)+\"_\"+str([0.]*39)+\";\"\n",
    "            else:\n",
    "                string = str(j)+\"_\"+str([float(val) for val in array])+\";\"\n",
    "            serializado += string\n",
    "            j+=1\n",
    "        serializado = serializado[:-1]\n",
    "\n",
    "        tree, ret = deserialize_pre_order(serializado)\n",
    "        vec = serialize_post_order_numpy_vector(tree)\n",
    "        vec = vec[:, ::-1]\n",
    "        np.save(file_name[0], np.array(vec))\n",
    "        # Use memory mapping to avoid loading full file into memory\n",
    "        tree_data_np = np.load(\"stage1-augmented/train/\"+ file_name[0], mmap_mode='r')\n",
    "        print(tree_data_np[10])\n",
    "        # Convert to tensor only when accessed\n",
    "        tree_tensor = torch.tensor(tree_data_np, dtype=torch.float32)\n",
    "        serial_tree = list(tree_tensor.flatten().numpy())\n",
    "        tree = deserialize_post_order(serial_tree)\n",
    "        serial_tree = serialize_pre_order(tree)\n",
    "        np_tree = np.array(serial_tree).reshape((-1,39))\n",
    "        tree_tensor = torch.tensor(np_tree, dtype = torch.float32)\n",
    "    except:\n",
    "        i+=1\n",
    "        print(f\"no compila {file_name[0]}\")\n",
    "        traceback.print_exc()\n",
    "    if i>0:\n",
    "        break"
   ]
  },
  {
   "cell_type": "code",
   "execution_count": null,
   "metadata": {},
   "outputs": [
    {
     "data": {
      "text/plain": [
       "memmap([-0.17415049, -0.10429844,  0.01452376, -0.19208889, -0.24207865,\n",
       "        -0.16826656, -0.12843469, -0.12444527, -0.19208889, -0.24207865,\n",
       "        -0.16826656, -0.0286907 , -0.04690212, -0.15743542, -0.1746936 ,\n",
       "        -0.13729971, -0.0286907 , -0.04690212, -0.15743542, -0.07027163,\n",
       "         0.08779504,  0.0911504 ,  0.01993336, -0.05459815, -0.07027163,\n",
       "         0.08779504,  0.0911504 , -0.61922237, -0.50257209, -0.24670583,\n",
       "         0.        ,  0.2557138 ,  0.38077763,  0.49742791,  0.75329417,\n",
       "         1.        ,  1.2557138 ,  1.38077763,  1.49742791])"
      ]
     },
     "execution_count": 69,
     "metadata": {},
     "output_type": "execute_result"
    }
   ],
   "source": [
    "tree_data_np[-3]"
   ]
  },
  {
   "cell_type": "code",
   "execution_count": null,
   "metadata": {},
   "outputs": [
    {
     "data": {
      "text/plain": [
       "array([0., 0., 0., 0., 0., 0., 0., 0., 0., 0., 0., 0., 0., 0., 0., 0., 0.,\n",
       "       0., 0., 0., 0., 0., 0., 0., 0., 0., 0., 0., 0., 0., 0., 0., 0., 0.,\n",
       "       0., 0., 0., 0., 0.], dtype=float32)"
      ]
     },
     "execution_count": 78,
     "metadata": {},
     "output_type": "execute_result"
    }
   ],
   "source": [
    "vec[-8]"
   ]
  },
  {
   "cell_type": "code",
   "execution_count": null,
   "metadata": {},
   "outputs": [
    {
     "name": "stdout",
     "output_type": "stream",
     "text": [
      "[0. 0. 0. 0. 0. 0. 0. 0. 0. 0. 0. 0. 0. 0. 0. 0. 0. 0. 0. 0. 0. 0. 0. 0.\n",
      " 0. 0. 0. 0. 0. 0. 0. 0. 0. 0. 0. 0. 0. 0. 0.]\n",
      "[0. 0. 0. 0. 0. 0. 0. 0. 0. 0. 0. 0. 0. 0. 0. 0. 0. 0. 0. 0. 0. 0. 0. 0.\n",
      " 0. 0. 0. 0. 0. 0. 0. 0. 0. 0. 0. 0. 0. 0. 0.]\n",
      "[0. 0. 0. 0. 0. 0. 0. 0. 0. 0. 0. 0. 0. 0. 0. 0. 0. 0. 0. 0. 0. 0. 0. 0.\n",
      " 0. 0. 0. 0. 0. 0. 0. 0. 0. 0. 0. 0. 0. 0. 0.]\n",
      "[0. 0. 0. 0. 0. 0. 0. 0. 0. 0. 0. 0. 0. 0. 0. 0. 0. 0. 0. 0. 0. 0. 0. 0.\n",
      " 0. 0. 0. 0. 0. 0. 0. 0. 0. 0. 0. 0. 0. 0. 0.]\n",
      "[0. 0. 0. 0. 0. 0. 0. 0. 0. 0. 0. 0. 0. 0. 0. 0. 0. 0. 0. 0. 0. 0. 0. 0.\n",
      " 0. 0. 0. 0. 0. 0. 0. 0. 0. 0. 0. 0. 0. 0. 0.]\n",
      "[0. 0. 0. 0. 0. 0. 0. 0. 0. 0. 0. 0. 0. 0. 0. 0. 0. 0. 0. 0. 0. 0. 0. 0.\n",
      " 0. 0. 0. 0. 0. 0. 0. 0. 0. 0. 0. 0. 0. 0. 0.]\n",
      "[ 5.4644972e-01 -2.8777441e-01 -2.7866417e-01  5.0803304e-01\n",
      "  4.9172395e-01  5.4865187e-01  5.9566927e-01  5.8010405e-01\n",
      "  5.0866884e-01  4.8962685e-01  5.4669714e-01 -2.8642377e-01\n",
      " -3.2474300e-01 -3.0831450e-01 -2.6865864e-01 -2.4341051e-01\n",
      " -2.8907138e-01 -3.2396612e-01 -3.0794188e-01 -3.4955496e-01\n",
      " -2.7614295e-01 -2.1331687e-01 -2.3602265e-01 -3.2171610e-01\n",
      " -3.4981111e-01 -2.7464843e-01 -2.1127503e-01 -5.8210367e-01\n",
      " -4.0858895e-01 -1.8225273e-01 -1.1562314e-03  2.3850928e-01\n",
      "  4.0956205e-01  5.8720797e-01  8.1275588e-01  9.8584473e-01\n",
      "  1.2297655e+00  1.4008129e+00  1.5752186e+00]\n",
      "[ 0.4835567  -0.1766942  -0.2415367   0.5247295   0.3807112   0.45535314\n",
      "  0.51302934  0.5558905   0.52452695  0.37799895  0.4561063  -0.06330613\n",
      " -0.26686317 -0.25806382 -0.18155989 -0.1056481  -0.06431556 -0.2676116\n",
      " -0.25516695 -0.3720582  -0.3381111  -0.14055555 -0.1547461  -0.18723127\n",
      " -0.3693838  -0.33508345 -0.13397625 -0.6502712  -0.5226026  -0.42206702\n",
      " -0.00179838  0.16290098  0.33712345  0.47135654  0.56734765  0.9843168\n",
      "  1.1504976   1.3275212   1.4586561 ]\n",
      "[0. 0. 0. 0. 0. 0. 0. 0. 0. 0. 0. 0. 0. 0. 0. 0. 0. 0. 0. 0. 0. 0. 0. 0.\n",
      " 0. 0. 0. 0. 0. 0. 0. 0. 0. 0. 0. 0. 0. 0. 0.]\n",
      "[0. 0. 0. 0. 0. 0. 0. 0. 0. 0. 0. 0. 0. 0. 0. 0. 0. 0. 0. 0. 0. 0. 0. 0.\n",
      " 0. 0. 0. 0. 0. 0. 0. 0. 0. 0. 0. 0. 0. 0. 0.]\n",
      "[0. 0. 0. 0. 0. 0. 0. 0. 0. 0. 0. 0. 0. 0. 0. 0. 0. 0. 0. 0. 0. 0. 0. 0.\n",
      " 0. 0. 0. 0. 0. 0. 0. 0. 0. 0. 0. 0. 0. 0. 0.]\n",
      "[0. 0. 0. 0. 0. 0. 0. 0. 0. 0. 0. 0. 0. 0. 0. 0. 0. 0. 0. 0. 0. 0. 0. 0.\n",
      " 0. 0. 0. 0. 0. 0. 0. 0. 0. 0. 0. 0. 0. 0. 0.]\n",
      "[0. 0. 0. 0. 0. 0. 0. 0. 0. 0. 0. 0. 0. 0. 0. 0. 0. 0. 0. 0. 0. 0. 0. 0.\n",
      " 0. 0. 0. 0. 0. 0. 0. 0. 0. 0. 0. 0. 0. 0. 0.]\n",
      "[ 4.2809823e-01 -1.8984987e-01 -4.3188083e-01  4.2680174e-01\n",
      "  4.0521318e-01  4.1609272e-01  4.3568963e-01  4.3731201e-01\n",
      "  4.2598784e-01  4.0232819e-01  4.1633388e-01 -1.6906641e-01\n",
      " -1.9061808e-01 -1.9977176e-01 -1.9370672e-01 -1.7403027e-01\n",
      " -1.7186585e-01 -1.9255288e-01 -2.0057386e-01 -4.4906208e-01\n",
      " -4.5071781e-01 -4.1551954e-01 -4.0742344e-01 -4.3166900e-01\n",
      " -4.4998449e-01 -4.4928667e-01 -4.1358969e-01 -5.2192503e-01\n",
      " -3.7075847e-01 -1.8834202e-01  8.4961019e-04  2.9889333e-01\n",
      "  4.7225440e-01  6.2763512e-01  8.0888742e-01  9.8893917e-01\n",
      "  1.2935971e+00  1.4652680e+00  1.6198691e+00]\n",
      "[ 4.0526855e-01 -1.4845380e-01 -4.0888944e-01  3.9314413e-01\n",
      "  3.9354748e-01  4.0359917e-01  4.1564471e-01  4.0018085e-01\n",
      "  3.9440602e-01  3.9110366e-01  4.0160298e-01 -1.4243250e-01\n",
      " -1.6618222e-01 -1.6823597e-01 -1.3249287e-01 -1.2471685e-01\n",
      " -1.4383990e-01 -1.6522257e-01 -1.6687608e-01 -4.3298852e-01\n",
      " -4.1688740e-01 -3.7954208e-01 -3.8864264e-01 -4.2421147e-01\n",
      " -4.3304342e-01 -4.1507110e-01 -3.7894797e-01 -5.1826555e-01\n",
      " -3.3723098e-01 -2.1411532e-01 -1.3352558e-04  2.0825773e-01\n",
      "  4.7567874e-01  6.6160607e-01  7.8352404e-01  9.8877853e-01\n",
      "  1.2005571e+00  1.4678082e+00  1.6531937e+00]\n",
      "[ 3.60603720e-01 -1.45208910e-01 -3.53220165e-01  3.68962556e-01\n",
      "  3.27046990e-01  3.28749210e-01  3.73839974e-01  3.96205604e-01\n",
      "  3.69083613e-01  3.23465526e-01  3.27490449e-01 -1.02269664e-01\n",
      " -1.24866121e-01 -1.73163518e-01 -1.78455219e-01 -1.42823935e-01\n",
      " -1.03808381e-01 -1.25240251e-01 -1.72281861e-01 -3.59914929e-01\n",
      " -3.51983070e-01 -3.42139810e-01 -3.51011574e-01 -3.59701663e-01\n",
      " -3.59852165e-01 -3.50974798e-01 -3.41292143e-01 -6.20531023e-01\n",
      " -4.33205575e-01 -2.51593173e-01 -3.87653708e-04  1.80835277e-01\n",
      "  3.67679894e-01  5.59870422e-01  7.39478171e-01  9.84135032e-01\n",
      "  1.16973674e+00  1.35533321e+00  1.54659438e+00]\n",
      "[ 3.70763958e-01 -1.50908604e-01 -2.86240399e-01  3.85103375e-01\n",
      "  3.22587073e-01  3.52497548e-01  3.92411828e-01  3.90643537e-01\n",
      "  3.86028379e-01  3.19843411e-01  3.53504300e-01 -1.12181351e-01\n",
      " -1.23363622e-01 -1.86028674e-01 -1.71857581e-01 -1.40495479e-01\n",
      " -1.15414985e-01 -1.24444403e-01 -1.87525570e-01 -2.94306397e-01\n",
      " -2.50842661e-01 -2.77435154e-01 -3.02426219e-01 -3.05312663e-01\n",
      " -2.94127524e-01 -2.50033021e-01 -2.76051074e-01 -4.59179729e-01\n",
      " -3.35769862e-01 -1.81360468e-01  1.24749355e-03  4.21208292e-01\n",
      "  5.30507267e-01  6.53941870e-01  8.09818864e-01  9.80663061e-01\n",
      "  1.41011453e+00  1.51554811e+00  1.64297545e+00]\n",
      "[ 0.44550264 -0.17853375 -0.22409734  0.50606686  0.32611996  0.35144097\n",
      "  0.49934876  0.57471013  0.50783193  0.31814623  0.3504481  -0.02429245\n",
      " -0.1502647  -0.34394848 -0.30723208 -0.20035651 -0.02786742 -0.15039834\n",
      " -0.34511954 -0.25518236 -0.15682566 -0.22442973 -0.30800876 -0.32341787\n",
      " -0.24908866 -0.15490781 -0.22661354 -0.5567621  -0.45019642 -0.21515213\n",
      "  0.00199627  0.2743706   0.437352    0.54773486  0.7873727   0.98897755\n",
      "  1.2706246   1.4289148   1.5425656 ]\n",
      "[0. 0. 0. 0. 0. 0. 0. 0. 0. 0. 0. 0. 0. 0. 0. 0. 0. 0. 0. 0. 0. 0. 0. 0.\n",
      " 0. 0. 0. 0. 0. 0. 0. 0. 0. 0. 0. 0. 0. 0. 0.]\n",
      "[0. 0. 0. 0. 0. 0. 0. 0. 0. 0. 0. 0. 0. 0. 0. 0. 0. 0. 0. 0. 0. 0. 0. 0.\n",
      " 0. 0. 0. 0. 0. 0. 0. 0. 0. 0. 0. 0. 0. 0. 0.]\n",
      "[0. 0. 0. 0. 0. 0. 0. 0. 0. 0. 0. 0. 0. 0. 0. 0. 0. 0. 0. 0. 0. 0. 0. 0.\n",
      " 0. 0. 0. 0. 0. 0. 0. 0. 0. 0. 0. 0. 0. 0. 0.]\n",
      "[0. 0. 0. 0. 0. 0. 0. 0. 0. 0. 0. 0. 0. 0. 0. 0. 0. 0. 0. 0. 0. 0. 0. 0.\n",
      " 0. 0. 0. 0. 0. 0. 0. 0. 0. 0. 0. 0. 0. 0. 0.]\n",
      "[0. 0. 0. 0. 0. 0. 0. 0. 0. 0. 0. 0. 0. 0. 0. 0. 0. 0. 0. 0. 0. 0. 0. 0.\n",
      " 0. 0. 0. 0. 0. 0. 0. 0. 0. 0. 0. 0. 0. 0. 0.]\n",
      "[0. 0. 0. 0. 0. 0. 0. 0. 0. 0. 0. 0. 0. 0. 0. 0. 0. 0. 0. 0. 0. 0. 0. 0.\n",
      " 0. 0. 0. 0. 0. 0. 0. 0. 0. 0. 0. 0. 0. 0. 0.]\n",
      "[0. 0. 0. 0. 0. 0. 0. 0. 0. 0. 0. 0. 0. 0. 0. 0. 0. 0. 0. 0. 0. 0. 0. 0.\n",
      " 0. 0. 0. 0. 0. 0. 0. 0. 0. 0. 0. 0. 0. 0. 0.]\n",
      "[0. 0. 0. 0. 0. 0. 0. 0. 0. 0. 0. 0. 0. 0. 0. 0. 0. 0. 0. 0. 0. 0. 0. 0.\n",
      " 0. 0. 0. 0. 0. 0. 0. 0. 0. 0. 0. 0. 0. 0. 0.]\n",
      "[0. 0. 0. 0. 0. 0. 0. 0. 0. 0. 0. 0. 0. 0. 0. 0. 0. 0. 0. 0. 0. 0. 0. 0.\n",
      " 0. 0. 0. 0. 0. 0. 0. 0. 0. 0. 0. 0. 0. 0. 0.]\n",
      "[0. 0. 0. 0. 0. 0. 0. 0. 0. 0. 0. 0. 0. 0. 0. 0. 0. 0. 0. 0. 0. 0. 0. 0.\n",
      " 0. 0. 0. 0. 0. 0. 0. 0. 0. 0. 0. 0. 0. 0. 0.]\n",
      "[0. 0. 0. 0. 0. 0. 0. 0. 0. 0. 0. 0. 0. 0. 0. 0. 0. 0. 0. 0. 0. 0. 0. 0.\n",
      " 0. 0. 0. 0. 0. 0. 0. 0. 0. 0. 0. 0. 0. 0. 0.]\n",
      "[0. 0. 0. 0. 0. 0. 0. 0. 0. 0. 0. 0. 0. 0. 0. 0. 0. 0. 0. 0. 0. 0. 0. 0.\n",
      " 0. 0. 0. 0. 0. 0. 0. 0. 0. 0. 0. 0. 0. 0. 0.]\n",
      "[ 0.94360507  0.11919609 -0.50006783  0.94153714  0.94414425  0.939428\n",
      "  0.9404392   0.9355578   0.9432974   0.946211    0.93939954  0.13851628\n",
      "  0.12939905  0.10356579  0.10034473  0.11877634  0.1340679   0.13161395\n",
      "  0.1056907  -0.49946788 -0.48196122 -0.48480222 -0.523709   -0.5189392\n",
      " -0.49887377 -0.4802662  -0.4868068  -0.5230443  -0.27044404 -0.1401062\n",
      "  0.00273385  0.24564368  0.47601932  0.73792094  0.86014146  0.9970105\n",
      "  1.2421733   1.4685668   1.7295597 ]\n",
      "[ 9.0502834e-01  5.1851310e-02 -4.4299185e-01  8.9754641e-01\n",
      "  9.2353028e-01  9.2157924e-01  8.9580059e-01  8.8506985e-01\n",
      "  8.9669722e-01  9.1938519e-01  9.1769171e-01  7.1521878e-02\n",
      "  7.6369420e-02  4.7412872e-02  3.0468155e-02  5.2535158e-02\n",
      "  6.9220230e-02  7.4164346e-02  4.7251455e-02 -4.4910911e-01\n",
      " -4.2477146e-01 -4.2660293e-01 -4.6046680e-01 -4.6583363e-01\n",
      " -4.5129579e-01 -4.2450896e-01 -4.2422706e-01 -5.1103508e-01\n",
      " -3.2611030e-01 -1.9280177e-01 -8.4524974e-05  2.0128241e-01\n",
      "  4.8378730e-01  6.8328160e-01  8.0381465e-01  9.8934370e-01\n",
      "  1.1935165e+00  1.4726021e+00  1.6698300e+00]\n",
      "[ 8.8544512e-01 -1.0274662e-02 -3.8501188e-01  8.8074595e-01\n",
      "  8.5888964e-01  9.0394342e-01  8.9583731e-01  8.8043255e-01\n",
      "  8.8012844e-01  8.6166191e-01  9.0373904e-01  5.6188107e-03\n",
      " -1.3695885e-02 -3.0653473e-02 -4.5831455e-03  1.3259635e-03\n",
      "  4.3106582e-03 -1.6328758e-02 -2.9078947e-02 -3.9613554e-01\n",
      " -3.9122593e-01 -3.8255456e-01 -3.7205961e-01 -3.8411602e-01\n",
      " -3.9608750e-01 -3.9048961e-01 -3.8031468e-01 -4.0680015e-01\n",
      " -3.3354983e-01 -2.5898591e-01  1.0006130e-03  3.8332006e-01\n",
      "  5.8347636e-01  6.6401947e-01  7.3834485e-01  9.8040551e-01\n",
      "  1.3720168e+00  1.5658967e+00  1.6493225e+00]\n",
      "[0. 0. 0. 0. 0. 0. 0. 0. 0. 0. 0. 0. 0. 0. 0. 0. 0. 0. 0. 0. 0. 0. 0. 0.\n",
      " 0. 0. 0. 0. 0. 0. 0. 0. 0. 0. 0. 0. 0. 0. 0.]\n",
      "[0. 0. 0. 0. 0. 0. 0. 0. 0. 0. 0. 0. 0. 0. 0. 0. 0. 0. 0. 0. 0. 0. 0. 0.\n",
      " 0. 0. 0. 0. 0. 0. 0. 0. 0. 0. 0. 0. 0. 0. 0.]\n",
      "[0. 0. 0. 0. 0. 0. 0. 0. 0. 0. 0. 0. 0. 0. 0. 0. 0. 0. 0. 0. 0. 0. 0. 0.\n",
      " 0. 0. 0. 0. 0. 0. 0. 0. 0. 0. 0. 0. 0. 0. 0.]\n",
      "[ 1.0031993   0.11712002 -0.29124486  1.001042    0.9857182   1.0064627\n",
      "  1.0154227   1.0154846   1.00287     0.98224586  1.0059774   0.14058724\n",
      "  0.14579713  0.10911211  0.10507039  0.11080287  0.141659    0.1421714\n",
      "  0.11026959 -0.32349834 -0.2501537  -0.268007   -0.30232283 -0.31751963\n",
      " -0.3213888  -0.24847423 -0.2639253  -0.62288773 -0.5182143  -0.40204862\n",
      " -0.00183822  0.21432371  0.37181073  0.4892538   0.5930688   0.99005336\n",
      "  1.2069813   1.357441    1.4737718 ]\n",
      "[ 9.47971761e-01  7.93513656e-02 -3.37262988e-01  9.58711803e-01\n",
      "  9.36032832e-01  9.33776736e-01  9.50041294e-01  9.60567892e-01\n",
      "  9.62006390e-01  9.34355974e-01  9.33760822e-01  9.29372534e-02\n",
      "  1.08729415e-01  8.13002959e-02  5.30600362e-02  4.90356497e-02\n",
      "  9.20510739e-02  1.09269902e-01  8.10337365e-02 -3.70101064e-01\n",
      " -3.32685590e-01 -3.06507051e-01 -3.19805294e-01 -3.49219114e-01\n",
      " -3.72383833e-01 -3.30685258e-01 -3.06398541e-01 -6.64972067e-01\n",
      " -5.27297318e-01 -2.31778711e-01 -1.03962980e-03  2.13801324e-01\n",
      "  3.35568190e-01  4.76095110e-01  7.66643763e-01  9.92030740e-01\n",
      "  1.21249080e+00  1.32671833e+00  1.47028828e+00]\n",
      "[ 0.88956434 -0.00560785 -0.4062195   0.94259506  0.84378844  0.8327233\n",
      "  0.8569113   0.9375875   0.94466394  0.83802646  0.83321375  0.01775708\n",
      "  0.04471588  0.01688693 -0.03000561 -0.03806008  0.01561026  0.0439463\n",
      "  0.01135755 -0.50511223 -0.42220232 -0.34946772 -0.3441772  -0.39443678\n",
      " -0.504682   -0.41925418 -0.34906822 -0.676342   -0.5287909  -0.22114275\n",
      " -0.00155019  0.20902665  0.32393795  0.478169    0.77607226  0.9946444\n",
      "  1.2076901   1.3173786   1.4703538 ]\n",
      "[ 8.3122665e-01 -7.3989570e-02 -3.4890631e-01  8.1543833e-01\n",
      "  8.2071370e-01  8.3606297e-01  8.4852183e-01  8.3698577e-01\n",
      "  8.1686854e-01  8.1765860e-01  8.3596456e-01 -5.8567449e-02\n",
      " -5.7644397e-02 -7.5410977e-02 -9.3675777e-02 -8.4616631e-02\n",
      " -6.1281830e-02 -5.8345914e-02 -7.5634286e-02 -3.7083951e-01\n",
      " -3.2928941e-01 -3.2137567e-01 -3.5380337e-01 -3.7934753e-01\n",
      " -3.7098342e-01 -3.2580802e-01 -3.2012251e-01 -5.8102912e-01\n",
      " -4.2352989e-01 -1.8288934e-01 -7.5281784e-04  2.3812024e-01\n",
      "  4.1221356e-01  5.7583374e-01  8.1407094e-01  9.8867953e-01\n",
      "  1.2310619e+00  1.4035846e+00  1.5659467e+00]\n",
      "[ 0.7730987  -0.21407403 -0.34779036  0.74857783  0.76523995  0.77770823\n",
      "  0.7985821   0.7761325   0.7495927   0.76249963  0.7773436  -0.19965488\n",
      " -0.20081541 -0.2174494  -0.23785341 -0.22954732 -0.20081462 -0.20038764\n",
      " -0.21739525 -0.35940066 -0.3185894  -0.30982384 -0.3601429  -0.39660782\n",
      " -0.3597082  -0.31547818 -0.3096934  -0.6668608  -0.40960816 -0.20779139\n",
      "  0.00206413  0.15376326  0.33075762  0.59485906  0.79152733  0.9926361\n",
      "  1.1461624   1.3236749   1.5859854 ]\n",
      "[ 7.2965837e-01 -3.2082787e-01 -3.2475510e-01  7.0672798e-01\n",
      "  7.2194779e-01  7.3623389e-01  7.4828917e-01  7.2749197e-01\n",
      "  7.0791835e-01  7.1948153e-01  7.3630571e-01 -3.1048337e-01\n",
      " -2.9371804e-01 -3.0956548e-01 -3.4257102e-01 -3.5000533e-01\n",
      " -3.1075621e-01 -2.9366112e-01 -3.0914724e-01 -3.3800313e-01\n",
      " -2.9918012e-01 -2.9165053e-01 -3.3169758e-01 -3.7044838e-01\n",
      " -3.4009182e-01 -2.9661021e-01 -2.9128662e-01 -6.8011844e-01\n",
      " -4.1722259e-01 -2.0986204e-01  6.0777180e-05  1.4678338e-01\n",
      "  3.1334293e-01  5.8210975e-01  7.8657365e-01  9.8946661e-01\n",
      "  1.1377977e+00  1.3048289e+00  1.5696582e+00]\n",
      "[ 7.0744896e-01 -4.0630469e-01 -2.5965044e-01  6.8100762e-01\n",
      "  7.0231634e-01  7.2476518e-01  7.3628074e-01  7.0376337e-01\n",
      "  6.8170708e-01  7.0080692e-01  7.2473532e-01 -3.9705861e-01\n",
      " -3.7425691e-01 -3.9499104e-01 -4.3029696e-01 -4.3641683e-01\n",
      " -3.9727235e-01 -3.7542570e-01 -3.9541873e-01 -2.5984481e-01\n",
      " -2.3312965e-01 -2.4275647e-01 -2.7728420e-01 -2.9297778e-01\n",
      " -2.5953528e-01 -2.3016474e-01 -2.4107553e-01 -6.7791927e-01\n",
      " -4.3589795e-01 -2.2471392e-01  7.1768835e-04  1.5276967e-01\n",
      "  3.1730968e-01  5.6551427e-01  7.7467096e-01  9.9014127e-01\n",
      "  1.1461848e+00  1.3101022e+00  1.5535703e+00]\n",
      "[0. 0. 0. 0. 0. 0. 0. 0. 0. 0. 0. 0. 0. 0. 0. 0. 0. 0. 0. 0. 0. 0. 0. 0.\n",
      " 0. 0. 0. 0. 0. 0. 0. 0. 0. 0. 0. 0. 0. 0. 0.]\n",
      "[0. 0. 0. 0. 0. 0. 0. 0. 0. 0. 0. 0. 0. 0. 0. 0. 0. 0. 0. 0. 0. 0. 0. 0.\n",
      " 0. 0. 0. 0. 0. 0. 0. 0. 0. 0. 0. 0. 0. 0. 0.]\n",
      "[0. 0. 0. 0. 0. 0. 0. 0. 0. 0. 0. 0. 0. 0. 0. 0. 0. 0. 0. 0. 0. 0. 0. 0.\n",
      " 0. 0. 0. 0. 0. 0. 0. 0. 0. 0. 0. 0. 0. 0. 0.]\n",
      "[0. 0. 0. 0. 0. 0. 0. 0. 0. 0. 0. 0. 0. 0. 0. 0. 0. 0. 0. 0. 0. 0. 0. 0.\n",
      " 0. 0. 0. 0. 0. 0. 0. 0. 0. 0. 0. 0. 0. 0. 0.]\n",
      "[ 8.2025558e-01 -4.7502229e-01 -1.7549066e-01  8.0282080e-01\n",
      "  7.9706699e-01  8.1814188e-01  8.3727151e-01  8.1784028e-01\n",
      "  8.0448616e-01  7.9524392e-01  8.1802499e-01 -4.4417262e-01\n",
      " -4.4804293e-01 -5.0101209e-01 -5.0782102e-01 -4.6185341e-01\n",
      " -4.4563001e-01 -4.4976068e-01 -4.9808106e-01 -1.8258296e-01\n",
      " -1.3160010e-01 -1.5375337e-01 -2.1667124e-01 -2.1421620e-01\n",
      " -1.8351848e-01 -1.2919928e-01 -1.5188752e-01 -5.0640553e-01\n",
      " -2.9735553e-01 -1.6813217e-01  7.2477572e-04  2.3878931e-01\n",
      "  4.8919803e-01  7.0400745e-01  8.3132845e-01  9.8856056e-01\n",
      "  1.2320935e+00  1.4809568e+00  1.6917737e+00]\n",
      "[ 7.3782426e-01 -5.0249505e-01 -1.7494109e-01  7.5766188e-01\n",
      "  7.2598344e-01  7.2565591e-01  7.3096061e-01  7.5954825e-01\n",
      "  7.5693393e-01  7.2426957e-01  7.2603208e-01 -4.0958512e-01\n",
      " -5.6416970e-01 -5.8530062e-01 -5.3584987e-01 -4.4368300e-01\n",
      " -4.0673247e-01 -5.6472373e-01 -5.8536613e-01 -2.3964944e-01\n",
      " -2.6266465e-01 -1.5232483e-01 -1.1046282e-01 -9.3334161e-02\n",
      " -2.3961067e-01 -2.5893679e-01 -1.4492069e-01 -7.5318581e-01\n",
      " -5.7738066e-01 -4.0079257e-01 -1.5844218e-04  1.1574863e-01\n",
      "  2.4309959e-01  4.2408633e-01  5.9470451e-01  9.9028236e-01\n",
      "  1.1082551e+00  1.2356756e+00  1.4137985e+00]\n",
      "[0. 0. 0. 0. 0. 0. 0. 0. 0. 0. 0. 0. 0. 0. 0. 0. 0. 0. 0. 0. 0. 0. 0. 0.\n",
      " 0. 0. 0. 0. 0. 0. 0. 0. 0. 0. 0. 0. 0. 0. 0.]\n",
      "[0. 0. 0. 0. 0. 0. 0. 0. 0. 0. 0. 0. 0. 0. 0. 0. 0. 0. 0. 0. 0. 0. 0. 0.\n",
      " 0. 0. 0. 0. 0. 0. 0. 0. 0. 0. 0. 0. 0. 0. 0.]\n",
      "[0. 0. 0. 0. 0. 0. 0. 0. 0. 0. 0. 0. 0. 0. 0. 0. 0. 0. 0. 0. 0. 0. 0. 0.\n",
      " 0. 0. 0. 0. 0. 0. 0. 0. 0. 0. 0. 0. 0. 0. 0.]\n",
      "[0. 0. 0. 0. 0. 0. 0. 0. 0. 0. 0. 0. 0. 0. 0. 0. 0. 0. 0. 0. 0. 0. 0. 0.\n",
      " 0. 0. 0. 0. 0. 0. 0. 0. 0. 0. 0. 0. 0. 0. 0.]\n",
      "[0. 0. 0. 0. 0. 0. 0. 0. 0. 0. 0. 0. 0. 0. 0. 0. 0. 0. 0. 0. 0. 0. 0. 0.\n",
      " 0. 0. 0. 0. 0. 0. 0. 0. 0. 0. 0. 0. 0. 0. 0.]\n",
      "[0. 0. 0. 0. 0. 0. 0. 0. 0. 0. 0. 0. 0. 0. 0. 0. 0. 0. 0. 0. 0. 0. 0. 0.\n",
      " 0. 0. 0. 0. 0. 0. 0. 0. 0. 0. 0. 0. 0. 0. 0.]\n",
      "[0. 0. 0. 0. 0. 0. 0. 0. 0. 0. 0. 0. 0. 0. 0. 0. 0. 0. 0. 0. 0. 0. 0. 0.\n",
      " 0. 0. 0. 0. 0. 0. 0. 0. 0. 0. 0. 0. 0. 0. 0.]\n",
      "[0. 0. 0. 0. 0. 0. 0. 0. 0. 0. 0. 0. 0. 0. 0. 0. 0. 0. 0. 0. 0. 0. 0. 0.\n",
      " 0. 0. 0. 0. 0. 0. 0. 0. 0. 0. 0. 0. 0. 0. 0.]\n",
      "[0. 0. 0. 0. 0. 0. 0. 0. 0. 0. 0. 0. 0. 0. 0. 0. 0. 0. 0. 0. 0. 0. 0. 0.\n",
      " 0. 0. 0. 0. 0. 0. 0. 0. 0. 0. 0. 0. 0. 0. 0.]\n",
      "[0. 0. 0. 0. 0. 0. 0. 0. 0. 0. 0. 0. 0. 0. 0. 0. 0. 0. 0. 0. 0. 0. 0. 0.\n",
      " 0. 0. 0. 0. 0. 0. 0. 0. 0. 0. 0. 0. 0. 0. 0.]\n",
      "[0. 0. 0. 0. 0. 0. 0. 0. 0. 0. 0. 0. 0. 0. 0. 0. 0. 0. 0. 0. 0. 0. 0. 0.\n",
      " 0. 0. 0. 0. 0. 0. 0. 0. 0. 0. 0. 0. 0. 0. 0.]\n",
      "[0. 0. 0. 0. 0. 0. 0. 0. 0. 0. 0. 0. 0. 0. 0. 0. 0. 0. 0. 0. 0. 0. 0. 0.\n",
      " 0. 0. 0. 0. 0. 0. 0. 0. 0. 0. 0. 0. 0. 0. 0.]\n",
      "[ 9.4174778e-01 -3.3023551e-02 -2.5874618e-01  9.6391106e-01\n",
      "  9.3326348e-01  9.2491555e-01  9.3787843e-01  9.4492751e-01\n",
      "  9.6462137e-01  9.2716843e-01  9.2355192e-01 -2.8842954e-02\n",
      "  3.5818471e-03 -2.1857221e-02 -4.1460250e-02 -4.7869995e-02\n",
      " -2.7897229e-02  1.0447949e-03 -2.4951583e-02 -2.8865188e-01\n",
      " -2.5498530e-01 -2.2993916e-01 -2.4946901e-01 -2.5831035e-01\n",
      " -2.8982091e-01 -2.5591001e-01 -2.2878686e-01 -6.1450207e-01\n",
      " -5.2545553e-01 -3.5254079e-01  4.4873916e-04  2.5871477e-01\n",
      "  3.8398504e-01  4.8346630e-01  6.4576161e-01  9.9510163e-01\n",
      "  1.2556932e+00  1.3741591e+00  1.4733109e+00]\n",
      "[ 8.9999157e-01 -2.5016317e-01 -2.7350941e-01  8.8864660e-01\n",
      "  8.7297356e-01  8.9574468e-01  9.1650546e-01  9.0244406e-01\n",
      "  8.9076608e-01  8.6942101e-01  8.9455038e-01 -2.4375726e-01\n",
      " -2.3077904e-01 -2.4878711e-01 -2.6398903e-01 -2.5748494e-01\n",
      " -2.4561827e-01 -2.3137014e-01 -2.4852458e-01 -2.9842737e-01\n",
      " -2.5449702e-01 -2.4214637e-01 -2.8284168e-01 -3.0459955e-01\n",
      " -2.9964221e-01 -2.5259635e-01 -2.4187420e-01 -5.0842917e-01\n",
      " -3.7177637e-01 -2.4402271e-01  7.2378665e-05  2.4354403e-01\n",
      "  4.8523217e-01  6.2991667e-01  7.5379068e-01  9.8757231e-01\n",
      "  1.2352848e+00  1.4742720e+00  1.6186067e+00]\n",
      "[ 9.3139601e-01 -3.4183523e-01 -2.7987564e-01  9.1300291e-01\n",
      "  9.1061157e-01  9.2702317e-01  9.4355655e-01  9.3516022e-01\n",
      "  9.1772503e-01  9.0935564e-01  9.2718619e-01 -3.3767942e-01\n",
      " -3.2215106e-01 -3.3423969e-01 -3.5312408e-01 -3.5642210e-01\n",
      " -3.3846253e-01 -3.2233772e-01 -3.3505869e-01 -3.0916008e-01\n",
      " -2.6016289e-01 -2.5097418e-01 -2.8067937e-01 -3.1349015e-01\n",
      " -3.1130552e-01 -2.5856158e-01 -2.5045544e-01 -5.8386421e-01\n",
      " -4.3051109e-01 -1.7799343e-01 -3.4263078e-04  2.4231535e-01\n",
      "  4.1160834e-01  5.7090509e-01  8.2283628e-01  9.9024618e-01\n",
      "  1.2371035e+00  1.4040065e+00  1.5639648e+00]\n",
      "[ 0.9125493  -0.43577424 -0.23208703  0.90148604  0.8983136   0.9089059\n",
      "  0.9270251   0.9120961   0.9023639   0.89672863  0.9081197  -0.43973765\n",
      " -0.42295516 -0.42169672 -0.44310445 -0.4518238  -0.44092306 -0.42148903\n",
      " -0.4222265  -0.24943775 -0.21095136 -0.20705466 -0.24553868 -0.2580662\n",
      " -0.25012502 -0.21021242 -0.20558248 -0.5092929  -0.35993072 -0.23172845\n",
      "  0.00222737  0.23533206  0.4878736   0.6442684   0.77017915  0.99030894\n",
      "  1.2306637   1.48061     1.6367738 ]\n",
      "[ 0.9043827  -0.47278285 -0.20066519  0.89668345  0.91260475  0.9136486\n",
      "  0.9041394   0.8859633   0.898536    0.91191846  0.91186094 -0.4615174\n",
      " -0.45237643 -0.47335017 -0.496664   -0.47947776 -0.46288887 -0.45123488\n",
      " -0.47325033 -0.20155552 -0.1778091  -0.18866228 -0.22199205 -0.21974203\n",
      " -0.20093718 -0.17681523 -0.18533105 -0.5246266  -0.26195556 -0.1275969\n",
      "  0.00251844  0.2462166   0.47224247  0.74034816  0.87269527  0.98766637\n",
      "  1.2403188   1.4628794   1.7294424 ]\n",
      "[ 8.9432311e-01 -5.1028824e-01 -1.5812635e-01  8.8485795e-01\n",
      "  9.0253782e-01  9.0709674e-01  8.9877272e-01  8.8418752e-01\n",
      "  8.8733333e-01  8.9829832e-01  9.0442079e-01 -5.0853556e-01\n",
      " -5.1484948e-01 -5.1683819e-01 -5.0850141e-01 -5.1045448e-01\n",
      " -5.0819606e-01 -5.1450157e-01 -5.1663697e-01 -1.7479205e-01\n",
      " -1.5749486e-01 -1.4323932e-01 -1.5328839e-01 -1.7146060e-01\n",
      " -1.7694779e-01 -1.5447278e-01 -1.4221883e-01 -5.1909870e-01\n",
      " -3.4488344e-01 -2.1482974e-01 -4.6822242e-04  2.1309888e-01\n",
      "  4.7465980e-01  6.5458906e-01  7.8438056e-01  9.8487145e-01\n",
      "  1.2051578e+00  1.4640615e+00  1.6424789e+00]\n",
      "[ 8.3393234e-01 -5.2874339e-01 -8.1087425e-02  8.2428849e-01\n",
      "  8.3420879e-01  8.3692276e-01  8.4710962e-01  8.3475071e-01\n",
      "  8.2558733e-01  8.3253992e-01  8.3574939e-01 -5.3141052e-01\n",
      " -5.3659737e-01 -5.3983688e-01 -5.2686387e-01 -5.1953405e-01\n",
      " -5.3088230e-01 -5.3565276e-01 -5.3905654e-01 -1.0726045e-01\n",
      " -7.7439122e-02 -5.7252962e-02 -7.0901364e-02 -1.0197723e-01\n",
      " -1.1006888e-01 -7.5628914e-02 -5.6700256e-02 -6.5898818e-01\n",
      " -4.1372010e-01 -2.1818571e-01  5.3809863e-04  1.6598523e-01\n",
      "  3.3504313e-01  5.8314323e-01  7.7690965e-01  9.8693508e-01\n",
      "  1.1544340e+00  1.3255186e+00  1.5693423e+00]\n",
      "[ 0.80168533 -0.5512693  -0.0482366   0.7971565   0.80330753  0.80137825\n",
      "  0.80647564  0.8040493   0.7973495   0.79760367  0.801402   -0.5459984\n",
      " -0.5500002  -0.5537625  -0.5534076  -0.5445837  -0.5461802  -0.5487996\n",
      " -0.554714   -0.07142887 -0.03915117 -0.02015628 -0.04114975 -0.07364816\n",
      " -0.07707242 -0.03862785 -0.02234915 -0.64914566 -0.40716037 -0.21495833\n",
      "  0.00181005  0.16942479  0.349213    0.59615284  0.7872453   0.99356127\n",
      "  1.1653931   1.3463671   1.590044  ]\n",
      "[ 7.6477653e-01 -5.2911025e-01 -3.9105359e-02  7.6270008e-01\n",
      "  7.6502520e-01  7.5958955e-01  7.6957577e-01  7.6605040e-01\n",
      "  7.6453102e-01  7.6015323e-01  7.5795174e-01 -5.3901947e-01\n",
      " -5.4183066e-01 -5.3420633e-01 -5.1716524e-01 -5.1668596e-01\n",
      " -5.3853756e-01 -5.4021156e-01 -5.3370816e-01 -6.3894458e-02\n",
      " -2.8423605e-02 -1.2543727e-02 -3.1159714e-02 -6.7981198e-02\n",
      " -6.7089774e-02 -2.8387871e-02 -1.3110934e-02 -6.5573877e-01\n",
      " -4.1493687e-01 -2.1685566e-01  8.5768476e-04  1.6793324e-01\n",
      "  3.4027177e-01  5.8439106e-01  7.8126085e-01  9.8996758e-01\n",
      "  1.1602774e+00  1.3324816e+00  1.5747567e+00]\n",
      "[ 0.7319354  -0.50085354 -0.06204189  0.73636866  0.715223    0.7075589\n",
      "  0.73727906  0.75107807  0.7367069   0.711401    0.7066912  -0.5070631\n",
      " -0.5106236  -0.50535023 -0.49568588 -0.488754   -0.50700176 -0.5106139\n",
      " -0.5058063  -0.08695894 -0.05259679 -0.034937   -0.04999127 -0.08242451\n",
      " -0.08787134 -0.05193815 -0.03355029 -0.6506285  -0.4187197  -0.22551823\n",
      "  0.00158971  0.17512676  0.34555793  0.5808429   0.77358687  0.98975384\n",
      "  1.1702502   1.3394092   1.5724348 ]\n",
      "[ 0.71355605 -0.48415563 -0.057647    0.71784306  0.69875354  0.6863786\n",
      "  0.72598195  0.7355383   0.7189563   0.69597584  0.6867827  -0.46576345\n",
      " -0.46653265 -0.48867387 -0.504103   -0.48448667 -0.46791503 -0.46675617\n",
      " -0.48826835 -0.06449557 -0.05298917 -0.05218056 -0.07050587 -0.07526952\n",
      " -0.06283192 -0.04931975 -0.05170387 -0.52138245 -0.27123174 -0.14263105\n",
      "  0.00237441  0.24728471  0.4755124   0.7306803   0.85717946  0.9879911\n",
      "  1.2428958   1.4679248   1.7217127 ]\n",
      "[ 0.7005272  -0.5043698  -0.17558405  0.6000358   0.60147625  0.7398029\n",
      "  0.88354266  0.66464823  0.59890074  0.593803    0.7327745  -0.4301735\n",
      " -0.56411535 -0.6664744  -0.438029   -0.38571325 -0.43000743 -0.56218725\n",
      " -0.66253287 -0.18548438 -0.19302312 -0.19075207 -0.16888876 -0.18508467\n",
      " -0.18629979 -0.19037135 -0.19028106 -0.5059289  -0.2781388  -0.20115289\n",
      "  0.00361532  0.20592493  0.5018604   0.7387181   0.81435335  0.99425703\n",
      "  1.2044423   1.4982505   1.7382936 ]\n",
      "[ 0.71149427 -0.5040812  -0.19096787  0.6026538   0.61542094  0.78865886\n",
      "  0.8765569   0.6942381   0.60165316  0.61623114  0.7820748  -0.44507042\n",
      " -0.5833116  -0.6671033  -0.43803632 -0.38079438 -0.44840539 -0.5854081\n",
      " -0.66111434 -0.18824363 -0.19262384 -0.21649711 -0.20245826 -0.19065744\n",
      " -0.18913957 -0.19140732 -0.21635868 -0.5090974  -0.29531303 -0.19570923\n",
      "  0.00279368  0.2222231   0.49419892  0.71734095  0.8122038   0.99214906\n",
      "  1.2168361   1.4903078   1.7051346 ]\n",
      "[ 7.0494914e-01 -4.6340385e-01 -1.9663249e-01  6.0362637e-01\n",
      "  6.0385466e-01  7.6488805e-01  8.9569354e-01  6.8778050e-01\n",
      "  6.0231394e-01  5.9921086e-01  7.6018178e-01 -4.0118092e-01\n",
      " -5.3882682e-01 -6.3412732e-01 -4.1261038e-01 -3.6209685e-01\n",
      " -4.0292180e-01 -5.3842664e-01 -6.3127071e-01 -1.8724942e-01\n",
      " -2.2314048e-01 -2.4361879e-01 -1.7371874e-01 -1.7511585e-01\n",
      " -1.8724303e-01 -2.2162373e-01 -2.4431740e-01 -5.0456399e-01\n",
      " -2.8568092e-01 -2.0541577e-01  9.4798766e-04  2.1585011e-01\n",
      "  5.0319266e-01  7.2978806e-01  8.0641878e-01  9.9457985e-01\n",
      "  1.2147741e+00  1.5028741e+00  1.7222544e+00]\n",
      "[ 6.2993056e-01 -3.9552703e-01 -1.5761231e-01  6.1252725e-01\n",
      "  5.9736979e-01  6.2729645e-01  6.5575671e-01  6.3774109e-01\n",
      "  6.1514026e-01  5.9287041e-01  6.2576610e-01 -4.0145057e-01\n",
      " -4.1578865e-01 -3.9405832e-01 -3.7509459e-01 -3.8377947e-01\n",
      " -4.0219548e-01 -4.1665152e-01 -3.9310923e-01 -1.9277015e-01\n",
      " -1.4446633e-01 -1.1109969e-01 -1.5584213e-01 -1.9616988e-01\n",
      " -1.9283445e-01 -1.4259416e-01 -1.1102575e-01 -4.9315503e-01\n",
      " -3.4213182e-01 -2.2670230e-01 -3.8950145e-04  2.3772606e-01\n",
      "  4.9833894e-01  6.5526634e-01  7.7142203e-01  9.8622960e-01\n",
      "  1.2304972e+00  1.4892253e+00  1.6447163e+00]\n",
      "[ 5.68012536e-01 -3.20526153e-01 -1.24301173e-01  5.80495417e-01\n",
      "  5.32664657e-01  5.40543437e-01  5.74132442e-01  6.01292014e-01\n",
      "  5.81330240e-01  5.29740274e-01  5.41630983e-01 -3.08755606e-01\n",
      " -3.23687583e-01 -3.27467293e-01 -3.24461043e-01 -3.09079140e-01\n",
      " -3.10400128e-01 -3.24463695e-01 -3.28819066e-01 -1.64825499e-01\n",
      " -1.35961875e-01 -9.59464908e-02 -9.28092226e-02 -1.23326205e-01\n",
      " -1.65879712e-01 -1.33995518e-01 -9.47641209e-02 -6.22127235e-01\n",
      " -4.89287078e-01 -2.18223006e-01  2.24964693e-04  2.29435876e-01\n",
      "  3.67299199e-01  5.01265049e-01  7.71075547e-01  9.83182847e-01\n",
      "  1.21829796e+00  1.35532653e+00  1.48820400e+00]\n",
      "[ 5.23168921e-01 -2.50057697e-01 -1.17757306e-01  5.40890634e-01\n",
      "  4.93126273e-01  5.04733801e-01  5.29280066e-01  5.41025519e-01\n",
      "  5.41223764e-01  4.90645140e-01  5.04426658e-01 -2.43526787e-01\n",
      " -2.70828009e-01 -2.52009153e-01 -2.42358923e-01 -2.28050634e-01\n",
      " -2.44695783e-01 -2.72597939e-01 -2.53213763e-01 -1.73552454e-01\n",
      " -1.32893994e-01 -7.05868751e-02 -8.16459209e-02 -1.13685966e-01\n",
      " -1.73869357e-01 -1.31437555e-01 -6.81666955e-02 -5.95860481e-01\n",
      " -4.96548295e-01 -2.69804418e-01  4.93619591e-04  2.79003054e-01\n",
      "  3.92537653e-01  4.92907375e-01  7.18731701e-01  9.81172204e-01\n",
      "  1.26781929e+00  1.37893903e+00  1.47953832e+00]\n",
      "[ 4.7436896e-01 -2.0466046e-01 -1.6883616e-01  5.7551348e-01\n",
      "  3.8554114e-01  4.5484126e-01  4.8651299e-01  5.3587228e-01\n",
      "  5.7429087e-01  3.8078833e-01  4.5500800e-01 -1.4416188e-01\n",
      " -3.4530017e-01 -1.9899541e-01 -1.9595447e-01 -1.5676722e-01\n",
      " -1.4706959e-01 -3.5265794e-01 -2.0162743e-01 -3.6090061e-01\n",
      " -2.8124678e-01 -6.2208388e-02 -1.1406574e-01 -1.2623082e-01\n",
      " -3.5689062e-01 -2.7843738e-01 -5.8365423e-02 -5.6615222e-01\n",
      " -4.3129066e-01 -2.1401690e-01 -7.6500885e-04  2.9904482e-01\n",
      "  4.1480458e-01  5.4970801e-01  7.6513183e-01  9.7401828e-01\n",
      "  1.2880013e+00  1.3954818e+00  1.5289204e+00]\n",
      "[ 0.4464091  -0.16264866 -0.11290035  0.34251893  0.4146241   0.51557344\n",
      "  0.59084046  0.38149947  0.3443564   0.42166102  0.52010936 -0.09027021\n",
      " -0.20271657 -0.3701162  -0.2192049  -0.02942804 -0.09145083 -0.20647474\n",
      " -0.37112004 -0.14567688 -0.11677666 -0.10633701 -0.1430095  -0.15229285\n",
      " -0.14088385 -0.11257173 -0.10298723 -0.5934034  -0.22777122 -0.16358297\n",
      "  0.00492809  0.26202545  0.40980244  0.77892196  0.8377882   0.9924291\n",
      "  1.2531097   1.4016812   1.7720854 ]\n",
      "[ 3.44135284e-01 -9.75846723e-02 -1.03131250e-01  3.26201648e-01\n",
      "  3.13259602e-01  3.32492888e-01  3.74437630e-01  3.53361607e-01\n",
      "  3.27626914e-01  3.13110143e-01  3.31231356e-01 -1.01997867e-01\n",
      " -1.29120260e-01 -1.14956200e-01 -6.28782436e-02 -6.73377514e-02\n",
      " -1.03727885e-01 -1.29925087e-01 -1.12513185e-01 -1.59373939e-01\n",
      " -1.08436555e-01 -2.73733102e-02 -6.83923215e-02 -1.68251753e-01\n",
      " -1.59277126e-01 -1.07361607e-01 -2.76009645e-02 -5.30666530e-01\n",
      " -2.61439770e-01 -1.33505970e-01  8.99508595e-05  2.34549612e-01\n",
      "  4.60455954e-01  7.31595576e-01  8.61556232e-01  9.85391736e-01\n",
      "  1.22654831e+00  1.45217991e+00  1.72317934e+00]\n",
      "[ 2.65468478e-01 -4.63303253e-02 -9.52426642e-02  2.90574223e-01\n",
      "  2.43939251e-01  2.32159242e-01  2.68217057e-01  2.90067524e-01\n",
      "  2.91578561e-01  2.44128153e-01  2.34316438e-01 -1.34568121e-02\n",
      " -7.66505674e-02 -9.86289904e-02 -4.54835407e-02  4.39896807e-03\n",
      " -1.38063785e-02 -7.85209239e-02 -9.88217890e-02 -1.47791445e-01\n",
      " -1.42936870e-01 -6.46650791e-02 -2.79020518e-02 -8.69760066e-02\n",
      " -1.48186222e-01 -1.41499713e-01 -6.19931258e-02 -5.66916645e-01\n",
      " -3.45378876e-01 -1.97875962e-01  9.29072499e-04  2.47944564e-01\n",
      "  4.19973731e-01  6.41067803e-01  7.89052606e-01  9.82146025e-01\n",
      "  1.23557615e+00  1.40841186e+00  1.62824714e+00]\n",
      "[ 1.73957616e-01  5.80562279e-02 -8.35987478e-02  1.90395296e-01\n",
      "  1.64128691e-01  1.50924072e-01  1.55653447e-01  1.75646305e-01\n",
      "  1.88326120e-01  1.64950639e-01  1.44440264e-01  1.19813599e-01\n",
      "  3.29724476e-02 -2.84624379e-03  3.86592373e-02  1.27239615e-01\n",
      "  1.19033001e-01  3.16937193e-02  3.61898215e-04 -1.25430793e-01\n",
      " -1.42066285e-01 -8.07281733e-02 -2.77768448e-02 -4.73943949e-02\n",
      " -1.21611305e-01 -1.39302686e-01 -7.61786029e-02 -6.18498981e-01\n",
      " -4.50886607e-01 -2.61807799e-01  3.41184437e-04  1.80028766e-01\n",
      "  3.65752816e-01  5.36658525e-01  7.24985480e-01  9.83779967e-01\n",
      "  1.16832817e+00  1.34858572e+00  1.52463627e+00]\n",
      "[0. 0. 0. 0. 0. 0. 0. 0. 0. 0. 0. 0. 0. 0. 0. 0. 0. 0. 0. 0. 0. 0. 0. 0.\n",
      " 0. 0. 0. 0. 0. 0. 0. 0. 0. 0. 0. 0. 0. 0. 0.]\n",
      "[0. 0. 0. 0. 0. 0. 0. 0. 0. 0. 0. 0. 0. 0. 0. 0. 0. 0. 0. 0. 0. 0. 0. 0.\n",
      " 0. 0. 0. 0. 0. 0. 0. 0. 0. 0. 0. 0. 0. 0. 0.]\n",
      "[0. 0. 0. 0. 0. 0. 0. 0. 0. 0. 0. 0. 0. 0. 0. 0. 0. 0. 0. 0. 0. 0. 0. 0.\n",
      " 0. 0. 0. 0. 0. 0. 0. 0. 0. 0. 0. 0. 0. 0. 0.]\n",
      "[-8.2254626e-02  8.1130907e-02 -1.9317852e-01 -7.9219833e-02\n",
      " -9.3824334e-02 -9.7575061e-02 -7.4758813e-02 -7.7267751e-02\n",
      " -7.8360185e-02 -9.4224527e-02 -9.6376397e-02  1.2817489e-01\n",
      "  1.2204434e-01  4.4845972e-02  3.1415299e-02  8.5654125e-02\n",
      "  1.2846726e-01  1.2246976e-01  4.5294888e-02 -2.1427763e-01\n",
      " -1.5151279e-01 -1.4772175e-01 -2.1805605e-01 -2.4128632e-01\n",
      " -2.1511649e-01 -1.5136363e-01 -1.4651559e-01 -5.1151663e-01\n",
      " -3.6851409e-01 -2.4470498e-01 -7.8428909e-04  2.3078659e-01\n",
      "  4.7658110e-01  6.2104255e-01  7.4477255e-01  9.8394543e-01\n",
      "  1.2194779e+00  1.4658341e+00  1.6111722e+00]\n",
      "[-1.36046624e-02  6.65674135e-02 -1.34067848e-01  7.98030384e-03\n",
      " -2.87753772e-02 -5.52585833e-02 -1.16162309e-02  1.32362358e-02\n",
      "  9.41199623e-03 -3.03304903e-02 -5.39270937e-02  1.06348023e-01\n",
      "  1.07141152e-01  4.46236841e-02  1.30369617e-02  7.48557150e-02\n",
      "  1.05196916e-01  1.06781043e-01  4.44050431e-02 -1.42104149e-01\n",
      " -9.59967449e-02 -9.70529467e-02 -1.56313062e-01 -1.76304355e-01\n",
      " -1.43144011e-01 -9.57021266e-02 -9.70629528e-02 -5.00311732e-01\n",
      " -2.84351230e-01 -1.61820710e-01  6.80183992e-04  2.67343193e-01\n",
      "  4.85660315e-01  7.03680515e-01  8.26948464e-01  9.82092202e-01\n",
      "  1.25519657e+00  1.47273815e+00  1.69236171e+00]\n",
      "[ 0.08790272  0.01832333 -0.03759953  0.0222715  -0.18133816 -0.31573272\n",
      " -0.12873796  0.13824648  0.02790889 -0.17623408 -0.30721438  0.10377584\n",
      " -0.11455088 -0.4336153  -0.1771259   0.05232086  0.08699543 -0.11667217\n",
      " -0.43210825 -0.06012738  0.05645037 -0.01859526 -0.06596117 -0.1561715\n",
      " -0.05365605  0.05464782 -0.03150238 -0.49971592 -0.3106739  -0.21424699\n",
      "  0.00906264  0.23432037  0.4811433   0.66666687  0.7709028   0.9715781\n",
      "  1.2052591   1.4596194   1.6516336 ]\n",
      "[0. 0. 0. 0. 0. 0. 0. 0. 0. 0. 0. 0. 0. 0. 0. 0. 0. 0. 0. 0. 0. 0. 0. 0.\n",
      " 0. 0. 0. 0. 0. 0. 0. 0. 0. 0. 0. 0. 0. 0. 0.]\n",
      "[ 6.7838291e-03 -4.5266245e-03 -1.1497977e-02 -9.5258869e-02\n",
      "  2.4324356e-02  1.0274134e-01  6.9813795e-02 -5.4818444e-02\n",
      " -9.4477184e-02  2.6643204e-02  9.9440061e-02 -1.4670407e-02\n",
      " -9.0057172e-02 -4.6916433e-02  3.8038123e-02  9.7683445e-02\n",
      " -1.3005637e-02 -9.2313908e-02 -4.2946171e-02 -7.9187669e-02\n",
      " -5.4268483e-02  3.5243221e-02  6.7610800e-02  2.4145501e-02\n",
      " -8.2708709e-02 -5.4824751e-02  4.0134881e-02 -7.0344073e-01\n",
      " -5.1801342e-01 -2.6469722e-01  8.0574770e-04  1.4333287e-01\n",
      "  2.9149950e-01  4.7555569e-01  7.2955531e-01  9.8933434e-01\n",
      "  1.1341363e+00  1.2784250e+00  1.4685844e+00]\n"
     ]
    }
   ],
   "source": [
    "for roe in np.array(vec):\n",
    "    print(roe)"
   ]
  }
 ],
 "metadata": {
  "kernelspec": {
   "display_name": "pytorchpau",
   "language": "python",
   "name": "python3"
  },
  "language_info": {
   "codemirror_mode": {
    "name": "ipython",
    "version": 3
   },
   "file_extension": ".py",
   "mimetype": "text/x-python",
   "name": "python",
   "nbconvert_exporter": "python",
   "pygments_lexer": "ipython3",
   "version": "3.11.11"
  }
 },
 "nbformat": 4,
 "nbformat_minor": 2
}
